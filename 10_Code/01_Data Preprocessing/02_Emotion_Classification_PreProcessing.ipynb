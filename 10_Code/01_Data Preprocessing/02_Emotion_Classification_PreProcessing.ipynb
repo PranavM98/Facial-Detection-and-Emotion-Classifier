{
 "cells": [
  {
   "cell_type": "markdown",
   "metadata": {},
   "source": [
    "# Emotion Classification - Data Processing Notebook"
   ]
  },
  {
   "cell_type": "markdown",
   "metadata": {},
   "source": [
    "### Import Packages"
   ]
  },
  {
   "cell_type": "code",
   "execution_count": 1,
   "metadata": {},
   "outputs": [],
   "source": [
    "import pandas as pd\n",
    "import numpy as np\n",
    "import glob\n",
    "import os\n",
    "from PIL import Image"
   ]
  },
  {
   "cell_type": "markdown",
   "metadata": {},
   "source": [
    "### Data Pre-Processing"
   ]
  },
  {
   "cell_type": "markdown",
   "metadata": {},
   "source": [
    "Create grouped labels"
   ]
  },
  {
   "cell_type": "code",
   "execution_count": 2,
   "metadata": {},
   "outputs": [],
   "source": [
    "all_labels = ['happy', 'neutral', 'sad', 'fear', 'angry', 'surprise', 'disgust']\n",
    "\n",
    "group_dict = {'neutral':'Neutral', \n",
    "              \n",
    "              # Grouping happy and surprise\n",
    "              'happy':'Happy', \n",
    "              'surprise':'Happy',\n",
    "              \n",
    "              # Grouping fear and sad\n",
    "              'sad':'Sad', \n",
    "              'fear':'Sad', \n",
    "              \n",
    "              # Grouping angry and disgust\n",
    "              'angry':'Angry', \n",
    "              'disgust':'Angry'}"
   ]
  },
  {
   "cell_type": "code",
   "execution_count": 3,
   "metadata": {},
   "outputs": [],
   "source": [
    "final_lst=[]\n",
    "\n",
    "for path in glob.glob(\"../../00_Data/00_Source_Data/Emotion_Images/*\"):\n",
    "    lst=[]\n",
    "    name=path.rfind(\"/\")\n",
    "    filename=path[name+1:]\n",
    "    underscore=filename.find(\"_\")\n",
    "    label=filename[:underscore]\n",
    "    \n",
    "    if label in group_dict.keys():\n",
    "        label = group_dict[label]\n",
    "    \n",
    "    lst=[filename,label]\n",
    "    final_lst.append(lst)"
   ]
  },
  {
   "cell_type": "code",
   "execution_count": 4,
   "metadata": {},
   "outputs": [],
   "source": [
    "data=pd.DataFrame(final_lst, columns=['Filename','Label'])"
   ]
  },
  {
   "cell_type": "code",
   "execution_count": 5,
   "metadata": {},
   "outputs": [
    {
     "data": {
      "text/html": [
       "<div>\n",
       "<style scoped>\n",
       "    .dataframe tbody tr th:only-of-type {\n",
       "        vertical-align: middle;\n",
       "    }\n",
       "\n",
       "    .dataframe tbody tr th {\n",
       "        vertical-align: top;\n",
       "    }\n",
       "\n",
       "    .dataframe thead th {\n",
       "        text-align: right;\n",
       "    }\n",
       "</style>\n",
       "<table border=\"1\" class=\"dataframe\">\n",
       "  <thead>\n",
       "    <tr style=\"text-align: right;\">\n",
       "      <th></th>\n",
       "      <th>Filename</th>\n",
       "      <th>Label</th>\n",
       "    </tr>\n",
       "  </thead>\n",
       "  <tbody>\n",
       "    <tr>\n",
       "      <th>0</th>\n",
       "      <td>happy_31629.jpg</td>\n",
       "      <td>Happy</td>\n",
       "    </tr>\n",
       "    <tr>\n",
       "      <th>1</th>\n",
       "      <td>happy_2123.jpg</td>\n",
       "      <td>Happy</td>\n",
       "    </tr>\n",
       "    <tr>\n",
       "      <th>2</th>\n",
       "      <td>fear_29712.jpg</td>\n",
       "      <td>Sad</td>\n",
       "    </tr>\n",
       "    <tr>\n",
       "      <th>3</th>\n",
       "      <td>neutral_neutral_33955.jpg</td>\n",
       "      <td>Neutral</td>\n",
       "    </tr>\n",
       "    <tr>\n",
       "      <th>4</th>\n",
       "      <td>happy_17188.jpg</td>\n",
       "      <td>Happy</td>\n",
       "    </tr>\n",
       "  </tbody>\n",
       "</table>\n",
       "</div>"
      ],
      "text/plain": [
       "                    Filename    Label\n",
       "0            happy_31629.jpg    Happy\n",
       "1             happy_2123.jpg    Happy\n",
       "2             fear_29712.jpg      Sad\n",
       "3  neutral_neutral_33955.jpg  Neutral\n",
       "4            happy_17188.jpg    Happy"
      ]
     },
     "execution_count": 5,
     "metadata": {},
     "output_type": "execute_result"
    }
   ],
   "source": [
    "data.head()"
   ]
  },
  {
   "cell_type": "code",
   "execution_count": 6,
   "metadata": {},
   "outputs": [
    {
     "data": {
      "text/plain": [
       "Happy      12991\n",
       "Sad        11198\n",
       "Neutral     6198\n",
       "Angry       5500\n",
       "emotion        1\n",
       "Name: Label, dtype: int64"
      ]
     },
     "execution_count": 6,
     "metadata": {},
     "output_type": "execute_result"
    }
   ],
   "source": [
    "data.Label.value_counts()"
   ]
  },
  {
   "cell_type": "code",
   "execution_count": 7,
   "metadata": {},
   "outputs": [],
   "source": [
    "_=data.to_csv(\"../../00_Data/01_Transformed_Data/buckets_emotion_label.csv\")"
   ]
  },
  {
   "cell_type": "code",
   "execution_count": 8,
   "metadata": {},
   "outputs": [],
   "source": [
    "for filename in glob.glob(\"../../00_Data/00_Source_Data/Emotion_Images/*\"):\n",
    "    try:\n",
    "        img=Image.open(filename)\n",
    "        re_img=img.resize((250,250))\n",
    "        \n",
    "        name=filename[filename.rfind(\"/\")+1:]\n",
    "        new_file=\"../../00_Data/01_Transformed_Data/Buckets_Resized_Emotion_Images/\"+name\n",
    "        re_img.save(new_file)\n",
    "\n",
    "    except:\n",
    "        continue"
   ]
  },
  {
   "cell_type": "code",
   "execution_count": null,
   "metadata": {},
   "outputs": [],
   "source": []
  }
 ],
 "metadata": {
  "kernelspec": {
   "display_name": "Python 3",
   "language": "python",
   "name": "python3"
  },
  "language_info": {
   "codemirror_mode": {
    "name": "ipython",
    "version": 3
   },
   "file_extension": ".py",
   "mimetype": "text/x-python",
   "name": "python",
   "nbconvert_exporter": "python",
   "pygments_lexer": "ipython3",
   "version": "3.8.5"
  }
 },
 "nbformat": 4,
 "nbformat_minor": 4
}
