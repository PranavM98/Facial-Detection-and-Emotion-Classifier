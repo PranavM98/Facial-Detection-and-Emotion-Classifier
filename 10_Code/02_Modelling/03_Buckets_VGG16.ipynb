{
 "cells": [
  {
   "cell_type": "markdown",
   "metadata": {
    "id": "OfNYAqL3txfe"
   },
   "source": [
    "# VGG 16 - 4 Emotions Notebook"
   ]
  },
  {
   "cell_type": "markdown",
   "metadata": {
    "id": "HxeCh3temsaN"
   },
   "source": [
    "### Import Packages "
   ]
  },
  {
   "cell_type": "code",
   "execution_count": 26,
   "metadata": {
    "id": "T0x11AT2w8Lv"
   },
   "outputs": [],
   "source": [
    "import tensorflow as tf\n",
    "from tensorflow.keras.layers import Input, Conv2D\n",
    "from tensorflow.keras.layers import MaxPool2D, Flatten, Dense\n",
    "from tensorflow.keras import Model\n",
    "from keras.preprocessing import image"
   ]
  },
  {
   "cell_type": "code",
   "execution_count": 27,
   "metadata": {
    "id": "I5n8BgAivsPn"
   },
   "outputs": [],
   "source": [
    "import numpy as np\n",
    "from numpy.random import randn\n",
    "import pathlib\n",
    "import random\n",
    "from PIL import Image\n",
    "from matplotlib.image import imread\n",
    "import matplotlib.pyplot as plt\n",
    "import pandas as pd"
   ]
  },
  {
   "cell_type": "code",
   "execution_count": 2,
   "metadata": {
    "colab": {
     "base_uri": "https://localhost:8080/"
    },
    "id": "0OcQIchTmrWD",
    "outputId": "e7b6e1e1-a2c4-4ef0-a297-06e57aa2c6db"
   },
   "outputs": [
    {
     "name": "stdout",
     "output_type": "stream",
     "text": [
      "Cloning into 'Facial-Detection-and-Emotion-Classifier'...\n",
      "remote: Enumerating objects: 87229, done.\u001b[K\n",
      "remote: Counting objects: 100% (23/23), done.\u001b[K\n",
      "remote: Compressing objects: 100% (16/16), done.\u001b[K\n",
      "remote: Total 87229 (delta 10), reused 16 (delta 7), pack-reused 87206\u001b[K\n",
      "Receiving objects: 100% (87229/87229), 340.90 MiB | 33.66 MiB/s, done.\n",
      "Resolving deltas: 100% (89/89), done.\n",
      "Checking out files: 100% (134147/134147), done.\n"
     ]
    }
   ],
   "source": [
    "!git clone https://github.com/PranavM98/Facial-Detection-and-Emotion-Classifier.git"
   ]
  },
  {
   "cell_type": "code",
   "execution_count": 39,
   "metadata": {
    "id": "3K8NRQi-wg53"
   },
   "outputs": [],
   "source": [
    "data_dir = pathlib.Path(\"/content/Facial-Detection-and-Emotion-Classifier/00_Data/01_Transformed_Data/Buckets_Resized_Emotion_Images/\")\n",
    "data=pd.read_csv(\"/content/Facial-Detection-and-Emotion-Classifier/00_Data/01_Transformed_Data/buckets_emotion_label.csv\")"
   ]
  },
  {
   "cell_type": "code",
   "execution_count": 40,
   "metadata": {
    "id": "xu1HAzear9Yx"
   },
   "outputs": [],
   "source": [
    "img_data=[]\n",
    "all_images = list(data_dir.glob('*'))\n",
    "\n",
    "for i in all_images:\n",
    "  img=Image.open(str(i))\n",
    "  img=img.resize((64,64))\n",
    "  img=np.array(img).astype('float64')\n",
    "  img=img/255\n",
    "  img_data.append(img)\n"
   ]
  },
  {
   "cell_type": "code",
   "execution_count": 41,
   "metadata": {
    "id": "VALVhQvhwtbQ"
   },
   "outputs": [],
   "source": [
    "all_labels=[]\n",
    "label_names={'Happy':0,\n",
    "            'Sad':1,\n",
    "            'Neutral':2,\n",
    "            'Angry':3}\n",
    "\n",
    "for i in all_images:\n",
    "  file=str(i)[str(i).rfind('/')+1:]\n",
    "  all_labels.append(label_names[data[data['Filename']==file]['Label'].values[0]])"
   ]
  },
  {
   "cell_type": "markdown",
   "metadata": {
    "id": "mnoDINIEyCeB"
   },
   "source": [
    "### Masking Pre-Processing"
   ]
  },
  {
   "cell_type": "code",
   "execution_count": 42,
   "metadata": {
    "id": "J7hGiiYKr9Yy"
   },
   "outputs": [],
   "source": [
    "top_mask=[]\n",
    "bottom_mask=[]\n",
    "\n",
    "def creating_mask():\n",
    "    a=np.array([0]*2048)\n",
    "    a=a.reshape((32,64))\n",
    "    b=np.array([1]*2048)\n",
    "    b=b.reshape((32,64))\n",
    "    return a,b\n",
    "\n",
    "\n",
    "for i in img_data:\n",
    "    # a,b=creating_mask()\n",
    "    # con_bot = np.concatenate((b,a),axis=0)\n",
    "    # con_top = np.concatenate((a,b),axis=0)\n",
    "    # bottom_mask.append(np.multiply(con_bot,i))\n",
    "    # top_mask.append(np.multiply(con_top,i))\n",
    "    bottom_mask.append(i[:32,:])\n",
    "    top_mask.append(i[32:,:])"
   ]
  },
  {
   "cell_type": "code",
   "execution_count": 43,
   "metadata": {
    "id": "43r8jDc5aV2E"
   },
   "outputs": [],
   "source": [
    "#Bottom Mask\n",
    "data_size=len(all_images)\n",
    "\n",
    "train_test_split=(int)(data_size*0.2)\n",
    "\n",
    "x_train_bm=bottom_mask[train_test_split:]\n",
    "x_test_bm=bottom_mask[:train_test_split]\n",
    "\n",
    "y_train_bm=all_labels[train_test_split:]\n",
    "y_test_bm=all_labels[:train_test_split]\n",
    "\n",
    "\n"
   ]
  },
  {
   "cell_type": "code",
   "execution_count": 44,
   "metadata": {
    "id": "l0T2ffqjav3H"
   },
   "outputs": [],
   "source": [
    "train_dataset_bm = tf.data.Dataset.from_tensor_slices((np.asarray(x_train_bm), np.array(y_train_bm)))\n",
    "test_dataset_bm = tf.data.Dataset.from_tensor_slices((np.asarray(x_test_bm), np.array(y_test_bm)))"
   ]
  },
  {
   "cell_type": "code",
   "execution_count": 45,
   "metadata": {
    "id": "oYNalixjaWAh"
   },
   "outputs": [],
   "source": [
    "#Top Mask\n",
    "data_size=len(all_images)\n",
    "\n",
    "train_test_split=(int)(data_size*0.2)\n",
    "\n",
    "x_train_tm=top_mask[train_test_split:]\n",
    "x_test_tm=top_mask[:train_test_split]\n",
    "\n",
    "y_train_tm=all_labels[train_test_split:]\n",
    "y_test_tm=all_labels[:train_test_split]\n",
    "\n"
   ]
  },
  {
   "cell_type": "code",
   "execution_count": 46,
   "metadata": {
    "id": "0pjtsBPNbF2t"
   },
   "outputs": [],
   "source": [
    "train_dataset_tm = tf.data.Dataset.from_tensor_slices((np.asarray(x_train_tm), np.array(y_train_tm)))\n",
    "test_dataset_tm = tf.data.Dataset.from_tensor_slices((np.asarray(x_test_tm), np.array(y_test_tm)))"
   ]
  },
  {
   "cell_type": "markdown",
   "metadata": {
    "id": "abRoUCTCyL7N"
   },
   "source": [
    "### Baseline No Mask Pre-Processing"
   ]
  },
  {
   "cell_type": "code",
   "execution_count": 58,
   "metadata": {
    "id": "4zOCF1wQvYEl"
   },
   "outputs": [],
   "source": [
    "data_size=len(all_images)\n",
    "\n",
    "train_test_split=(int)(data_size*0.2)\n",
    "\n",
    "x_train=img_data[train_test_split:]\n",
    "x_test=img_data[:train_test_split]\n",
    "\n",
    "y_train=all_labels[train_test_split:]\n",
    "y_test=all_labels[:train_test_split]"
   ]
  },
  {
   "cell_type": "code",
   "execution_count": 59,
   "metadata": {
    "id": "llqV5LvQ163a"
   },
   "outputs": [],
   "source": [
    "for i in range(len(x_train)):\n",
    "    x_train[i]=x_train[i].reshape((64,64,1))\n",
    "\n",
    "for i in range(len(x_test)):\n",
    "    x_test[i]=x_test[i].reshape((64,64,1))"
   ]
  },
  {
   "cell_type": "code",
   "execution_count": 60,
   "metadata": {
    "id": "cXm7a_BWr9Y4"
   },
   "outputs": [],
   "source": [
    "train_dataset = tf.data.Dataset.from_tensor_slices((np.asarray(x_train), np.array(y_train)))\n",
    "test_dataset = tf.data.Dataset.from_tensor_slices((np.asarray(x_test), np.array(y_test)))"
   ]
  },
  {
   "cell_type": "markdown",
   "metadata": {
    "id": "_sfHqQhEyhrf"
   },
   "source": [
    "### Validation"
   ]
  },
  {
   "cell_type": "code",
   "execution_count": 61,
   "metadata": {
    "colab": {
     "base_uri": "https://localhost:8080/"
    },
    "id": "1z3fbE6Fa9a3",
    "outputId": "8f38eb4a-8974-45ee-c34c-3c8275c09f94"
   },
   "outputs": [
    {
     "data": {
      "text/plain": [
       "28710"
      ]
     },
     "execution_count": 61,
     "metadata": {},
     "output_type": "execute_result"
    }
   ],
   "source": [
    "len(x_train)"
   ]
  },
  {
   "cell_type": "code",
   "execution_count": 62,
   "metadata": {
    "colab": {
     "base_uri": "https://localhost:8080/"
    },
    "id": "4QWmvtz5dTes",
    "outputId": "7e83f588-3df4-4bb7-bb4d-fc98e5d5741d"
   },
   "outputs": [
    {
     "data": {
      "text/plain": [
       "28710"
      ]
     },
     "execution_count": 62,
     "metadata": {},
     "output_type": "execute_result"
    }
   ],
   "source": [
    "len(x_train_tm)"
   ]
  },
  {
   "cell_type": "code",
   "execution_count": 63,
   "metadata": {
    "colab": {
     "base_uri": "https://localhost:8080/"
    },
    "id": "KYVkhfOqc-Qw",
    "outputId": "87635959-703e-4bae-ad2e-38bb50d41bb1"
   },
   "outputs": [
    {
     "data": {
      "text/plain": [
       "28710"
      ]
     },
     "execution_count": 63,
     "metadata": {},
     "output_type": "execute_result"
    }
   ],
   "source": [
    "len(x_train_bm)"
   ]
  },
  {
   "cell_type": "markdown",
   "metadata": {
    "id": "gRARkaMYmvXg"
   },
   "source": [
    "## VGG-16 Model"
   ]
  },
  {
   "cell_type": "code",
   "execution_count": 64,
   "metadata": {
    "id": "i9IQrxZ_kqzQ"
   },
   "outputs": [],
   "source": [
    "device_name = tf.test.gpu_device_name()\n",
    "\n",
    "input = Input(shape=(64,64,1))\n",
    "\n",
    "x=Conv2D(filters=64,kernel_size=3, padding='same',activation='relu')(input)\n",
    "x=Conv2D(filters=64,kernel_size=3, padding='same',activation='relu')(x)\n",
    "x=MaxPool2D(pool_size =2, strides =2, padding ='same')(x)\n",
    "\n",
    "x=Conv2D(filters=128,kernel_size=3, padding='same', activation='relu')(x)\n",
    "x=Conv2D(filters=128,kernel_size=3, padding='same', activation='relu')(x)\n",
    "x=MaxPool2D(pool_size=2, strides=2, padding= 'same')(x)\n",
    "\n",
    "x=Conv2D(filters=256, kernel_size=3, padding = 'same', activation='relu')(x)\n",
    "x=Conv2D(filters=256, kernel_size=3, padding = 'same', activation='relu')(x)\n",
    "x=Conv2D(filters=256, kernel_size=3, padding = 'same', activation='relu')(x)\n",
    "x=MaxPool2D(pool_size=2, strides=2, padding='same')(x)\n",
    "\n",
    "x=Conv2D(filters=512, kernel_size=3, padding = 'same', activation='relu')(x)\n",
    "x=Conv2D(filters=512, kernel_size=3, padding = 'same', activation='relu')(x)\n",
    "x=Conv2D(filters=512, kernel_size=3, padding = 'same', activation='relu')(x)\n",
    "x=MaxPool2D(pool_size=2, strides=2, padding='same')(x)\n",
    "\n",
    "x=Conv2D(filters=512, kernel_size=3, padding = 'same', activation='relu')(x)\n",
    "x=Conv2D(filters=512, kernel_size=3, padding = 'same', activation='relu')(x)\n",
    "x=Conv2D(filters=512, kernel_size=3, padding = 'same', activation='relu')(x)\n",
    "x=MaxPool2D(pool_size=2, strides=2, padding='same')(x)\n",
    "\n",
    "x=Flatten()(x)\n",
    "x=Dense(units=4096, activation='relu')(x)\n",
    "x=Dense(units=4096, activation='relu')(x)\n",
    "x=Dense(units=1000, activation='relu')(x)\n",
    "output=Dense(units=3, activation='softmax')(x)"
   ]
  },
  {
   "cell_type": "code",
   "execution_count": 65,
   "metadata": {
    "colab": {
     "base_uri": "https://localhost:8080/"
    },
    "id": "8ER6c33pxu0M",
    "outputId": "97ecc7b1-8ebc-4600-faf1-8c31fa59ae1e"
   },
   "outputs": [
    {
     "name": "stdout",
     "output_type": "stream",
     "text": [
      "Model: \"model_3\"\n",
      "_________________________________________________________________\n",
      " Layer (type)                Output Shape              Param #   \n",
      "=================================================================\n",
      " input_4 (InputLayer)        [(None, 64, 64, 1)]       0         \n",
      "                                                                 \n",
      " conv2d_39 (Conv2D)          (None, 64, 64, 64)        640       \n",
      "                                                                 \n",
      " conv2d_40 (Conv2D)          (None, 64, 64, 64)        36928     \n",
      "                                                                 \n",
      " max_pooling2d_15 (MaxPoolin  (None, 32, 32, 64)       0         \n",
      " g2D)                                                            \n",
      "                                                                 \n",
      " conv2d_41 (Conv2D)          (None, 32, 32, 128)       73856     \n",
      "                                                                 \n",
      " conv2d_42 (Conv2D)          (None, 32, 32, 128)       147584    \n",
      "                                                                 \n",
      " max_pooling2d_16 (MaxPoolin  (None, 16, 16, 128)      0         \n",
      " g2D)                                                            \n",
      "                                                                 \n",
      " conv2d_43 (Conv2D)          (None, 16, 16, 256)       295168    \n",
      "                                                                 \n",
      " conv2d_44 (Conv2D)          (None, 16, 16, 256)       590080    \n",
      "                                                                 \n",
      " conv2d_45 (Conv2D)          (None, 16, 16, 256)       590080    \n",
      "                                                                 \n",
      " max_pooling2d_17 (MaxPoolin  (None, 8, 8, 256)        0         \n",
      " g2D)                                                            \n",
      "                                                                 \n",
      " conv2d_46 (Conv2D)          (None, 8, 8, 512)         1180160   \n",
      "                                                                 \n",
      " conv2d_47 (Conv2D)          (None, 8, 8, 512)         2359808   \n",
      "                                                                 \n",
      " conv2d_48 (Conv2D)          (None, 8, 8, 512)         2359808   \n",
      "                                                                 \n",
      " max_pooling2d_18 (MaxPoolin  (None, 4, 4, 512)        0         \n",
      " g2D)                                                            \n",
      "                                                                 \n",
      " conv2d_49 (Conv2D)          (None, 4, 4, 512)         2359808   \n",
      "                                                                 \n",
      " conv2d_50 (Conv2D)          (None, 4, 4, 512)         2359808   \n",
      "                                                                 \n",
      " conv2d_51 (Conv2D)          (None, 4, 4, 512)         2359808   \n",
      "                                                                 \n",
      " max_pooling2d_19 (MaxPoolin  (None, 2, 2, 512)        0         \n",
      " g2D)                                                            \n",
      "                                                                 \n",
      " flatten_3 (Flatten)         (None, 2048)              0         \n",
      "                                                                 \n",
      " dense_12 (Dense)            (None, 4096)              8392704   \n",
      "                                                                 \n",
      " dense_13 (Dense)            (None, 4096)              16781312  \n",
      "                                                                 \n",
      " dense_14 (Dense)            (None, 1000)              4097000   \n",
      "                                                                 \n",
      " dense_15 (Dense)            (None, 3)                 3003      \n",
      "                                                                 \n",
      "=================================================================\n",
      "Total params: 43,987,555\n",
      "Trainable params: 43,987,555\n",
      "Non-trainable params: 0\n",
      "_________________________________________________________________\n"
     ]
    }
   ],
   "source": [
    "model=Model(inputs=input, outputs=output)\n",
    "model.summary()"
   ]
  },
  {
   "cell_type": "code",
   "execution_count": 66,
   "metadata": {
    "id": "UR3A4ChlmWVP"
   },
   "outputs": [],
   "source": [
    "model.compile(\n",
    "    optimizer=tf.keras.optimizers.Adam(0.00001),\n",
    "    loss=tf.keras.losses.SparseCategoricalCrossentropy(),\n",
    "    metrics=tf.keras.metrics.SparseCategoricalAccuracy()\n",
    ")"
   ]
  },
  {
   "cell_type": "code",
   "execution_count": 67,
   "metadata": {
    "id": "8caXRISvr9Y7"
   },
   "outputs": [],
   "source": [
    "BATCH_SIZE = 64\n",
    "SHUFFLE_BUFFER_SIZE = 100\n",
    "\n",
    "train_dataset = train_dataset.shuffle(SHUFFLE_BUFFER_SIZE).batch(BATCH_SIZE)\n",
    "test_dataset = test_dataset.batch(BATCH_SIZE)"
   ]
  },
  {
   "cell_type": "code",
   "execution_count": 68,
   "metadata": {
    "colab": {
     "base_uri": "https://localhost:8080/"
    },
    "id": "fSCiNsqJr9Y7",
    "outputId": "e8190f05-9d4b-45af-efa2-a3de63f820bb"
   },
   "outputs": [
    {
     "name": "stdout",
     "output_type": "stream",
     "text": [
      "Epoch 1/25\n",
      "449/449 [==============================] - 27s 57ms/step - loss: nan - sparse_categorical_accuracy: 0.3623 - val_loss: nan - val_sparse_categorical_accuracy: 0.3607\n",
      "Epoch 2/25\n",
      "449/449 [==============================] - 25s 57ms/step - loss: nan - sparse_categorical_accuracy: 0.3623 - val_loss: nan - val_sparse_categorical_accuracy: 0.3607\n",
      "Epoch 3/25\n",
      "449/449 [==============================] - 25s 56ms/step - loss: nan - sparse_categorical_accuracy: 0.3623 - val_loss: nan - val_sparse_categorical_accuracy: 0.3607\n",
      "Epoch 4/25\n",
      "449/449 [==============================] - 25s 56ms/step - loss: nan - sparse_categorical_accuracy: 0.3623 - val_loss: nan - val_sparse_categorical_accuracy: 0.3607\n",
      "Epoch 5/25\n",
      "449/449 [==============================] - 25s 56ms/step - loss: nan - sparse_categorical_accuracy: 0.3623 - val_loss: nan - val_sparse_categorical_accuracy: 0.3607\n",
      "Epoch 6/25\n",
      "449/449 [==============================] - 25s 56ms/step - loss: nan - sparse_categorical_accuracy: 0.3623 - val_loss: nan - val_sparse_categorical_accuracy: 0.3607\n"
     ]
    },
    {
     "data": {
      "text/plain": [
       "<keras.callbacks.History at 0x7fad51b20050>"
      ]
     },
     "execution_count": 68,
     "metadata": {},
     "output_type": "execute_result"
    }
   ],
   "source": [
    "callback = tf.keras.callbacks.EarlyStopping(monitor='loss', patience=6)\n",
    "model.fit(train_dataset, epochs=25, validation_data=(test_dataset),callbacks=[callback])"
   ]
  },
  {
   "cell_type": "code",
   "execution_count": 69,
   "metadata": {
    "colab": {
     "base_uri": "https://localhost:8080/"
    },
    "id": "ULCb1icmYzyY",
    "outputId": "fe9b126f-d35b-48ec-dc5a-3820421c779c"
   },
   "outputs": [
    {
     "name": "stdout",
     "output_type": "stream",
     "text": [
      "INFO:tensorflow:Assets written to: /content/Facial-Detection-and-Emotion-Classifier/10_Code/03_Model_Checkpoints/four_buckets_no_mask_model/assets\n"
     ]
    }
   ],
   "source": [
    "model.save(\"/content/Facial-Detection-and-Emotion-Classifier/10_Code/03_Model_Checkpoints/four_buckets_no_mask_model\")"
   ]
  },
  {
   "cell_type": "code",
   "execution_count": 70,
   "metadata": {
    "id": "D_WbIWpouR95"
   },
   "outputs": [],
   "source": [
    "y_pred=model.predict(np.asarray(x_test))\n",
    "y_preds=np.argmax(y_pred,axis=1)"
   ]
  },
  {
   "cell_type": "code",
   "execution_count": 71,
   "metadata": {
    "id": "8qL1Eb8Uuh-q"
   },
   "outputs": [],
   "source": [
    "from sklearn.metrics import accuracy_score, f1_score, recall_score, precision_score, confusion_matrix, classification_report"
   ]
  },
  {
   "cell_type": "code",
   "execution_count": 72,
   "metadata": {
    "colab": {
     "base_uri": "https://localhost:8080/"
    },
    "id": "Wvgydy9HZhZ1",
    "outputId": "6ccc33d4-5efc-4e33-c8bf-ec0de486e11b"
   },
   "outputs": [
    {
     "data": {
      "text/plain": [
       "array([[2589,    0,    0,    0],\n",
       "       [2235,    0,    0,    0],\n",
       "       [1240,    0,    0,    0],\n",
       "       [1113,    0,    0,    0]])"
      ]
     },
     "execution_count": 72,
     "metadata": {},
     "output_type": "execute_result"
    }
   ],
   "source": [
    "confusion_matrix(y_test,y_preds)"
   ]
  },
  {
   "cell_type": "code",
   "execution_count": 73,
   "metadata": {
    "colab": {
     "base_uri": "https://localhost:8080/"
    },
    "id": "D_Tr_Ko2Z31x",
    "outputId": "55752227-0ca6-43a7-eee3-c9d6d55ce593"
   },
   "outputs": [
    {
     "data": {
      "text/plain": [
       "0.36073568343318935"
      ]
     },
     "execution_count": 73,
     "metadata": {},
     "output_type": "execute_result"
    }
   ],
   "source": [
    "accuracy_score(y_test,y_preds)"
   ]
  },
  {
   "cell_type": "code",
   "execution_count": 74,
   "metadata": {
    "colab": {
     "base_uri": "https://localhost:8080/"
    },
    "id": "7BUGKfnWZ7Rc",
    "outputId": "f70f5f0e-d6aa-4b6f-8e0a-39798a8e3e28"
   },
   "outputs": [
    {
     "data": {
      "text/plain": [
       "0.1912645268090369"
      ]
     },
     "execution_count": 74,
     "metadata": {},
     "output_type": "execute_result"
    }
   ],
   "source": [
    "f1_score(y_test,y_preds,average='weighted')"
   ]
  },
  {
   "cell_type": "code",
   "execution_count": 75,
   "metadata": {
    "colab": {
     "base_uri": "https://localhost:8080/"
    },
    "id": "RH0An8HOl8rb",
    "outputId": "e31273eb-a5bf-4844-ab6d-aad7c6f27c6a"
   },
   "outputs": [
    {
     "name": "stdout",
     "output_type": "stream",
     "text": [
      "              precision    recall  f1-score   support\n",
      "\n",
      "           0       0.36      1.00      0.53      2589\n",
      "           1       0.00      0.00      0.00      2235\n",
      "           2       0.00      0.00      0.00      1240\n",
      "           3       0.00      0.00      0.00      1113\n",
      "\n",
      "    accuracy                           0.36      7177\n",
      "   macro avg       0.09      0.25      0.13      7177\n",
      "weighted avg       0.13      0.36      0.19      7177\n",
      "\n"
     ]
    },
    {
     "name": "stderr",
     "output_type": "stream",
     "text": [
      "/usr/local/lib/python3.7/dist-packages/sklearn/metrics/_classification.py:1318: UndefinedMetricWarning: Precision and F-score are ill-defined and being set to 0.0 in labels with no predicted samples. Use `zero_division` parameter to control this behavior.\n",
      "  _warn_prf(average, modifier, msg_start, len(result))\n",
      "/usr/local/lib/python3.7/dist-packages/sklearn/metrics/_classification.py:1318: UndefinedMetricWarning: Precision and F-score are ill-defined and being set to 0.0 in labels with no predicted samples. Use `zero_division` parameter to control this behavior.\n",
      "  _warn_prf(average, modifier, msg_start, len(result))\n",
      "/usr/local/lib/python3.7/dist-packages/sklearn/metrics/_classification.py:1318: UndefinedMetricWarning: Precision and F-score are ill-defined and being set to 0.0 in labels with no predicted samples. Use `zero_division` parameter to control this behavior.\n",
      "  _warn_prf(average, modifier, msg_start, len(result))\n"
     ]
    }
   ],
   "source": [
    "print(classification_report(y_test,y_preds))"
   ]
  },
  {
   "cell_type": "markdown",
   "metadata": {
    "id": "1EffxKdHbTCZ"
   },
   "source": [
    "## Bottom Mask"
   ]
  },
  {
   "cell_type": "code",
   "execution_count": 76,
   "metadata": {
    "id": "lQ4647aRbZT0"
   },
   "outputs": [],
   "source": [
    "train_dataset_bm = train_dataset_bm.shuffle(SHUFFLE_BUFFER_SIZE).batch(BATCH_SIZE)\n",
    "test_dataset_bm = test_dataset_bm.batch(BATCH_SIZE)"
   ]
  },
  {
   "cell_type": "code",
   "execution_count": 77,
   "metadata": {
    "colab": {
     "base_uri": "https://localhost:8080/"
    },
    "id": "7Zjch3xpbcKq",
    "outputId": "3b620b8e-70df-40e5-c7d7-b5023a97f7c6"
   },
   "outputs": [
    {
     "name": "stdout",
     "output_type": "stream",
     "text": [
      "Model: \"model_4\"\n",
      "_________________________________________________________________\n",
      " Layer (type)                Output Shape              Param #   \n",
      "=================================================================\n",
      " input_5 (InputLayer)        [(None, 32, 64, 1)]       0         \n",
      "                                                                 \n",
      " conv2d_52 (Conv2D)          (None, 32, 64, 64)        640       \n",
      "                                                                 \n",
      " conv2d_53 (Conv2D)          (None, 32, 64, 64)        36928     \n",
      "                                                                 \n",
      " max_pooling2d_20 (MaxPoolin  (None, 16, 32, 64)       0         \n",
      " g2D)                                                            \n",
      "                                                                 \n",
      " conv2d_54 (Conv2D)          (None, 16, 32, 128)       73856     \n",
      "                                                                 \n",
      " conv2d_55 (Conv2D)          (None, 16, 32, 128)       147584    \n",
      "                                                                 \n",
      " max_pooling2d_21 (MaxPoolin  (None, 8, 16, 128)       0         \n",
      " g2D)                                                            \n",
      "                                                                 \n",
      " conv2d_56 (Conv2D)          (None, 8, 16, 256)        295168    \n",
      "                                                                 \n",
      " conv2d_57 (Conv2D)          (None, 8, 16, 256)        590080    \n",
      "                                                                 \n",
      " conv2d_58 (Conv2D)          (None, 8, 16, 256)        590080    \n",
      "                                                                 \n",
      " max_pooling2d_22 (MaxPoolin  (None, 4, 8, 256)        0         \n",
      " g2D)                                                            \n",
      "                                                                 \n",
      " conv2d_59 (Conv2D)          (None, 4, 8, 512)         1180160   \n",
      "                                                                 \n",
      " conv2d_60 (Conv2D)          (None, 4, 8, 512)         2359808   \n",
      "                                                                 \n",
      " conv2d_61 (Conv2D)          (None, 4, 8, 512)         2359808   \n",
      "                                                                 \n",
      " max_pooling2d_23 (MaxPoolin  (None, 2, 4, 512)        0         \n",
      " g2D)                                                            \n",
      "                                                                 \n",
      " conv2d_62 (Conv2D)          (None, 2, 4, 512)         2359808   \n",
      "                                                                 \n",
      " conv2d_63 (Conv2D)          (None, 2, 4, 512)         2359808   \n",
      "                                                                 \n",
      " conv2d_64 (Conv2D)          (None, 2, 4, 512)         2359808   \n",
      "                                                                 \n",
      " max_pooling2d_24 (MaxPoolin  (None, 1, 2, 512)        0         \n",
      " g2D)                                                            \n",
      "                                                                 \n",
      " flatten_4 (Flatten)         (None, 1024)              0         \n",
      "                                                                 \n",
      " dense_16 (Dense)            (None, 4096)              4198400   \n",
      "                                                                 \n",
      " dense_17 (Dense)            (None, 4096)              16781312  \n",
      "                                                                 \n",
      " dense_18 (Dense)            (None, 1000)              4097000   \n",
      "                                                                 \n",
      " dense_19 (Dense)            (None, 3)                 3003      \n",
      "                                                                 \n",
      "=================================================================\n",
      "Total params: 39,793,251\n",
      "Trainable params: 39,793,251\n",
      "Non-trainable params: 0\n",
      "_________________________________________________________________\n"
     ]
    }
   ],
   "source": [
    "input = Input(shape=(32,64,1))\n",
    "x=Conv2D(filters=64,kernel_size=3, padding='same',activation='relu')(input)\n",
    "x=Conv2D(filters=64,kernel_size=3, padding='same',activation='relu')(x)\n",
    "x=MaxPool2D(pool_size =2, strides =2, padding ='same')(x)\n",
    "x=Conv2D(filters=128,kernel_size=3, padding='same', activation='relu')(x)\n",
    "x=Conv2D(filters=128,kernel_size=3, padding='same', activation='relu')(x)\n",
    "x=MaxPool2D(pool_size=2, strides=2, padding= 'same')(x)\n",
    "x=Conv2D(filters=256, kernel_size=3, padding = 'same', activation='relu')(x)\n",
    "x=Conv2D(filters=256, kernel_size=3, padding = 'same', activation='relu')(x)\n",
    "x=Conv2D(filters=256, kernel_size=3, padding = 'same', activation='relu')(x)\n",
    "x=MaxPool2D(pool_size=2, strides=2, padding='same')(x)\n",
    "x=Conv2D(filters=512, kernel_size=3, padding = 'same', activation='relu')(x)\n",
    "x=Conv2D(filters=512, kernel_size=3, padding = 'same', activation='relu')(x)\n",
    "x=Conv2D(filters=512, kernel_size=3, padding = 'same', activation='relu')(x)\n",
    "x=MaxPool2D(pool_size=2, strides=2, padding='same')(x)\n",
    "\n",
    "x=Conv2D(filters=512, kernel_size=3, padding = 'same', activation='relu')(x)\n",
    "x=Conv2D(filters=512, kernel_size=3, padding = 'same', activation='relu')(x)\n",
    "x=Conv2D(filters=512, kernel_size=3, padding = 'same', activation='relu')(x)\n",
    "x=MaxPool2D(pool_size=2, strides=2, padding='same')(x)\n",
    "\n",
    "\n",
    "x=Flatten()(x)\n",
    "x=Dense(units=4096, activation='relu')(x)\n",
    "x=Dense(units=4096, activation='relu')(x)\n",
    "x=Dense(units=1000, activation='relu')(x)\n",
    "output=Dense(units=3, activation='softmax')(x)\n",
    "\n",
    "model_bm=Model(inputs=input, outputs=output)\n",
    "model_bm.summary()\n"
   ]
  },
  {
   "cell_type": "code",
   "execution_count": 78,
   "metadata": {
    "id": "jU_QBjCdbqIU"
   },
   "outputs": [],
   "source": [
    "model_bm.compile(\n",
    "    optimizer=tf.keras.optimizers.Adam(0.0001),\n",
    "    loss=tf.keras.losses.SparseCategoricalCrossentropy(),\n",
    "    metrics=tf.keras.metrics.SparseCategoricalAccuracy()\n",
    ")\n"
   ]
  },
  {
   "cell_type": "code",
   "execution_count": 79,
   "metadata": {
    "colab": {
     "base_uri": "https://localhost:8080/"
    },
    "id": "696EBkP7bu1_",
    "outputId": "41dfbf7a-a1e9-4ba6-cba8-26f0fc4ff3f7"
   },
   "outputs": [
    {
     "name": "stdout",
     "output_type": "stream",
     "text": [
      "Epoch 1/25\n",
      "449/449 [==============================] - 19s 39ms/step - loss: nan - sparse_categorical_accuracy: 0.3623 - val_loss: nan - val_sparse_categorical_accuracy: 0.3607\n",
      "Epoch 2/25\n",
      "449/449 [==============================] - 17s 38ms/step - loss: nan - sparse_categorical_accuracy: 0.3623 - val_loss: nan - val_sparse_categorical_accuracy: 0.3607\n",
      "Epoch 3/25\n",
      "449/449 [==============================] - 17s 38ms/step - loss: nan - sparse_categorical_accuracy: 0.3623 - val_loss: nan - val_sparse_categorical_accuracy: 0.3607\n"
     ]
    },
    {
     "data": {
      "text/plain": [
       "<keras.callbacks.History at 0x7fad51705c50>"
      ]
     },
     "execution_count": 79,
     "metadata": {},
     "output_type": "execute_result"
    }
   ],
   "source": [
    "callback = tf.keras.callbacks.EarlyStopping(monitor='loss', patience=3)\n",
    "model_bm.fit(train_dataset_bm, epochs=25, validation_data=(test_dataset_bm),callbacks=[callback])"
   ]
  },
  {
   "cell_type": "code",
   "execution_count": 80,
   "metadata": {
    "colab": {
     "base_uri": "https://localhost:8080/"
    },
    "id": "yFi1ftgahjsw",
    "outputId": "7ace127f-8705-4550-dcc3-28bd710f55f2"
   },
   "outputs": [
    {
     "name": "stdout",
     "output_type": "stream",
     "text": [
      "INFO:tensorflow:Assets written to: /content/Facial-Detection-and-Emotion-Classifier/10_Code/03_Model_Checkpoints/four_buckets_bottom_mask_model/assets\n"
     ]
    }
   ],
   "source": [
    "model_bm.save(\"/content/Facial-Detection-and-Emotion-Classifier/10_Code/03_Model_Checkpoints/four_buckets_bottom_mask_model\")"
   ]
  },
  {
   "cell_type": "code",
   "execution_count": 81,
   "metadata": {
    "id": "6XnLA1BbgOSC"
   },
   "outputs": [],
   "source": [
    "y_pred=model_bm.predict(np.asarray(x_test_bm))\n",
    "y_preds=np.argmax(y_pred,axis=1)"
   ]
  },
  {
   "cell_type": "code",
   "execution_count": 82,
   "metadata": {
    "colab": {
     "base_uri": "https://localhost:8080/"
    },
    "id": "T0XIvMZSgOWS",
    "outputId": "652cafd7-8a57-4a50-eca2-e6ca20449ec7"
   },
   "outputs": [
    {
     "data": {
      "text/plain": [
       "array([[2589,    0,    0,    0],\n",
       "       [2235,    0,    0,    0],\n",
       "       [1240,    0,    0,    0],\n",
       "       [1113,    0,    0,    0]])"
      ]
     },
     "execution_count": 82,
     "metadata": {},
     "output_type": "execute_result"
    }
   ],
   "source": [
    "confusion_matrix(y_test_bm,y_preds)"
   ]
  },
  {
   "cell_type": "code",
   "execution_count": 83,
   "metadata": {
    "colab": {
     "base_uri": "https://localhost:8080/"
    },
    "id": "cUYSPvbIgOoF",
    "outputId": "4c1b2bfa-3581-44d9-c47a-0bb1be6f5b9c"
   },
   "outputs": [
    {
     "data": {
      "text/plain": [
       "0.36073568343318935"
      ]
     },
     "execution_count": 83,
     "metadata": {},
     "output_type": "execute_result"
    }
   ],
   "source": [
    "accuracy_score(y_test_bm,y_preds)"
   ]
  },
  {
   "cell_type": "code",
   "execution_count": 84,
   "metadata": {
    "colab": {
     "base_uri": "https://localhost:8080/"
    },
    "id": "-AYlD4DYgZAG",
    "outputId": "19035a9f-6c08-4a5d-bcdc-6c455519677e"
   },
   "outputs": [
    {
     "data": {
      "text/plain": [
       "0.1912645268090369"
      ]
     },
     "execution_count": 84,
     "metadata": {},
     "output_type": "execute_result"
    }
   ],
   "source": [
    "f1_score(y_test_bm,y_preds, average='weighted')"
   ]
  },
  {
   "cell_type": "code",
   "execution_count": 85,
   "metadata": {
    "colab": {
     "base_uri": "https://localhost:8080/"
    },
    "id": "CMMdXupYpHAi",
    "outputId": "c638089d-0307-441c-8338-54681775b30a"
   },
   "outputs": [
    {
     "name": "stdout",
     "output_type": "stream",
     "text": [
      "              precision    recall  f1-score   support\n",
      "\n",
      "           0       0.36      1.00      0.53      2589\n",
      "           1       0.00      0.00      0.00      2235\n",
      "           2       0.00      0.00      0.00      1240\n",
      "           3       0.00      0.00      0.00      1113\n",
      "\n",
      "    accuracy                           0.36      7177\n",
      "   macro avg       0.09      0.25      0.13      7177\n",
      "weighted avg       0.13      0.36      0.19      7177\n",
      "\n"
     ]
    },
    {
     "name": "stderr",
     "output_type": "stream",
     "text": [
      "/usr/local/lib/python3.7/dist-packages/sklearn/metrics/_classification.py:1318: UndefinedMetricWarning: Precision and F-score are ill-defined and being set to 0.0 in labels with no predicted samples. Use `zero_division` parameter to control this behavior.\n",
      "  _warn_prf(average, modifier, msg_start, len(result))\n",
      "/usr/local/lib/python3.7/dist-packages/sklearn/metrics/_classification.py:1318: UndefinedMetricWarning: Precision and F-score are ill-defined and being set to 0.0 in labels with no predicted samples. Use `zero_division` parameter to control this behavior.\n",
      "  _warn_prf(average, modifier, msg_start, len(result))\n",
      "/usr/local/lib/python3.7/dist-packages/sklearn/metrics/_classification.py:1318: UndefinedMetricWarning: Precision and F-score are ill-defined and being set to 0.0 in labels with no predicted samples. Use `zero_division` parameter to control this behavior.\n",
      "  _warn_prf(average, modifier, msg_start, len(result))\n"
     ]
    }
   ],
   "source": [
    "print(classification_report(y_test_bm,y_preds))"
   ]
  },
  {
   "cell_type": "markdown",
   "metadata": {
    "id": "VJsvvStycJmp"
   },
   "source": [
    "## TOP Mask"
   ]
  },
  {
   "cell_type": "code",
   "execution_count": 86,
   "metadata": {
    "id": "hKVhJCxXbz4t"
   },
   "outputs": [],
   "source": [
    "train_dataset_tm = train_dataset_tm.shuffle(SHUFFLE_BUFFER_SIZE).batch(BATCH_SIZE)\n",
    "test_dataset_tm = test_dataset_tm.batch(BATCH_SIZE)"
   ]
  },
  {
   "cell_type": "code",
   "execution_count": 87,
   "metadata": {
    "colab": {
     "base_uri": "https://localhost:8080/"
    },
    "id": "Lp6NLVz5cXbB",
    "outputId": "a4f95efc-7873-4cbb-877d-b3d6bdba0fbf"
   },
   "outputs": [
    {
     "name": "stdout",
     "output_type": "stream",
     "text": [
      "Model: \"model_5\"\n",
      "_________________________________________________________________\n",
      " Layer (type)                Output Shape              Param #   \n",
      "=================================================================\n",
      " input_6 (InputLayer)        [(None, 32, 64, 1)]       0         \n",
      "                                                                 \n",
      " conv2d_65 (Conv2D)          (None, 32, 64, 64)        640       \n",
      "                                                                 \n",
      " conv2d_66 (Conv2D)          (None, 32, 64, 64)        36928     \n",
      "                                                                 \n",
      " max_pooling2d_25 (MaxPoolin  (None, 16, 32, 64)       0         \n",
      " g2D)                                                            \n",
      "                                                                 \n",
      " conv2d_67 (Conv2D)          (None, 16, 32, 128)       73856     \n",
      "                                                                 \n",
      " conv2d_68 (Conv2D)          (None, 16, 32, 128)       147584    \n",
      "                                                                 \n",
      " max_pooling2d_26 (MaxPoolin  (None, 8, 16, 128)       0         \n",
      " g2D)                                                            \n",
      "                                                                 \n",
      " conv2d_69 (Conv2D)          (None, 8, 16, 256)        295168    \n",
      "                                                                 \n",
      " conv2d_70 (Conv2D)          (None, 8, 16, 256)        590080    \n",
      "                                                                 \n",
      " conv2d_71 (Conv2D)          (None, 8, 16, 256)        590080    \n",
      "                                                                 \n",
      " max_pooling2d_27 (MaxPoolin  (None, 4, 8, 256)        0         \n",
      " g2D)                                                            \n",
      "                                                                 \n",
      " conv2d_72 (Conv2D)          (None, 4, 8, 512)         1180160   \n",
      "                                                                 \n",
      " conv2d_73 (Conv2D)          (None, 4, 8, 512)         2359808   \n",
      "                                                                 \n",
      " conv2d_74 (Conv2D)          (None, 4, 8, 512)         2359808   \n",
      "                                                                 \n",
      " max_pooling2d_28 (MaxPoolin  (None, 2, 4, 512)        0         \n",
      " g2D)                                                            \n",
      "                                                                 \n",
      " conv2d_75 (Conv2D)          (None, 2, 4, 512)         2359808   \n",
      "                                                                 \n",
      " conv2d_76 (Conv2D)          (None, 2, 4, 512)         2359808   \n",
      "                                                                 \n",
      " conv2d_77 (Conv2D)          (None, 2, 4, 512)         2359808   \n",
      "                                                                 \n",
      " max_pooling2d_29 (MaxPoolin  (None, 1, 2, 512)        0         \n",
      " g2D)                                                            \n",
      "                                                                 \n",
      " flatten_5 (Flatten)         (None, 1024)              0         \n",
      "                                                                 \n",
      " dense_20 (Dense)            (None, 4096)              4198400   \n",
      "                                                                 \n",
      " dense_21 (Dense)            (None, 4096)              16781312  \n",
      "                                                                 \n",
      " dense_22 (Dense)            (None, 1000)              4097000   \n",
      "                                                                 \n",
      " dense_23 (Dense)            (None, 3)                 3003      \n",
      "                                                                 \n",
      "=================================================================\n",
      "Total params: 39,793,251\n",
      "Trainable params: 39,793,251\n",
      "Non-trainable params: 0\n",
      "_________________________________________________________________\n"
     ]
    }
   ],
   "source": [
    "input = Input(shape=(32,64,1))\n",
    "x=Conv2D(filters=64,kernel_size=3, padding='same',activation='relu')(input)\n",
    "x=Conv2D(filters=64,kernel_size=3, padding='same',activation='relu')(x)\n",
    "x=MaxPool2D(pool_size =2, strides =2, padding ='same')(x)\n",
    "x=Conv2D(filters=128,kernel_size=3, padding='same', activation='relu')(x)\n",
    "x=Conv2D(filters=128,kernel_size=3, padding='same', activation='relu')(x)\n",
    "x=MaxPool2D(pool_size=2, strides=2, padding= 'same')(x)\n",
    "x=Conv2D(filters=256, kernel_size=3, padding = 'same', activation='relu')(x)\n",
    "x=Conv2D(filters=256, kernel_size=3, padding = 'same', activation='relu')(x)\n",
    "x=Conv2D(filters=256, kernel_size=3, padding = 'same', activation='relu')(x)\n",
    "x=MaxPool2D(pool_size=2, strides=2, padding='same')(x)\n",
    "x=Conv2D(filters=512, kernel_size=3, padding = 'same', activation='relu')(x)\n",
    "x=Conv2D(filters=512, kernel_size=3, padding = 'same', activation='relu')(x)\n",
    "x=Conv2D(filters=512, kernel_size=3, padding = 'same', activation='relu')(x)\n",
    "x=MaxPool2D(pool_size=2, strides=2, padding='same')(x)\n",
    "\n",
    "x=Conv2D(filters=512, kernel_size=3, padding = 'same', activation='relu')(x)\n",
    "x=Conv2D(filters=512, kernel_size=3, padding = 'same', activation='relu')(x)\n",
    "x=Conv2D(filters=512, kernel_size=3, padding = 'same', activation='relu')(x)\n",
    "x=MaxPool2D(pool_size=2, strides=2, padding='same')(x)\n",
    "\n",
    "\n",
    "x=Flatten()(x)\n",
    "x=Dense(units=4096, activation='relu')(x)\n",
    "x=Dense(units=4096, activation='relu')(x)\n",
    "x=Dense(units=1000, activation='relu')(x)\n",
    "output=Dense(units=3, activation='softmax')(x)\n",
    "\n",
    "\n",
    "model_tm=Model(inputs=input, outputs=output)\n",
    "model_tm.summary()\n"
   ]
  },
  {
   "cell_type": "code",
   "execution_count": 88,
   "metadata": {
    "id": "JQ3WGVRzcZNm"
   },
   "outputs": [],
   "source": [
    "model_tm.compile(\n",
    "    optimizer=tf.keras.optimizers.Adam(0.0001),\n",
    "    loss=tf.keras.losses.SparseCategoricalCrossentropy(),\n",
    "    metrics=tf.keras.metrics.SparseCategoricalAccuracy()\n",
    ")\n"
   ]
  },
  {
   "cell_type": "code",
   "execution_count": 89,
   "metadata": {
    "colab": {
     "base_uri": "https://localhost:8080/"
    },
    "id": "hbkMePCRceRD",
    "outputId": "9ed8422e-bb46-4296-8a0e-d6f1a73283f3"
   },
   "outputs": [
    {
     "name": "stdout",
     "output_type": "stream",
     "text": [
      "Epoch 1/25\n",
      "449/449 [==============================] - 18s 38ms/step - loss: nan - sparse_categorical_accuracy: 0.3620 - val_loss: nan - val_sparse_categorical_accuracy: 0.3607\n",
      "Epoch 2/25\n",
      "449/449 [==============================] - 17s 38ms/step - loss: nan - sparse_categorical_accuracy: 0.3623 - val_loss: nan - val_sparse_categorical_accuracy: 0.3607\n",
      "Epoch 3/25\n",
      "449/449 [==============================] - 17s 38ms/step - loss: nan - sparse_categorical_accuracy: 0.3623 - val_loss: nan - val_sparse_categorical_accuracy: 0.3607\n"
     ]
    },
    {
     "data": {
      "text/plain": [
       "<keras.callbacks.History at 0x7fabba4bc190>"
      ]
     },
     "execution_count": 89,
     "metadata": {},
     "output_type": "execute_result"
    }
   ],
   "source": [
    "callback = tf.keras.callbacks.EarlyStopping(monitor='loss', patience=3)\n",
    "model_tm.fit(train_dataset_tm, epochs=25, validation_data=(test_dataset_tm),callbacks=[callback])"
   ]
  },
  {
   "cell_type": "code",
   "execution_count": 90,
   "metadata": {
    "colab": {
     "base_uri": "https://localhost:8080/"
    },
    "id": "wR2LauSqhqlW",
    "outputId": "26c0f5b9-ef60-4d0a-9b4a-ae81a5939c7e"
   },
   "outputs": [
    {
     "name": "stdout",
     "output_type": "stream",
     "text": [
      "INFO:tensorflow:Assets written to: /content/Facial-Detection-and-Emotion-Classifier/10_Code/03_Model_Checkpoints/four_buckets_top_mask_model/assets\n"
     ]
    }
   ],
   "source": [
    "model_tm.save(\"/content/Facial-Detection-and-Emotion-Classifier/10_Code/03_Model_Checkpoints/four_buckets_top_mask_model\")"
   ]
  },
  {
   "cell_type": "code",
   "execution_count": 91,
   "metadata": {
    "id": "A_6XGJU0cmRo"
   },
   "outputs": [],
   "source": [
    "y_pred=model_tm.predict(np.asarray(x_test_tm))\n",
    "y_preds=np.argmax(y_pred,axis=1)"
   ]
  },
  {
   "cell_type": "code",
   "execution_count": 92,
   "metadata": {
    "colab": {
     "base_uri": "https://localhost:8080/"
    },
    "id": "i3MxdWmthBcS",
    "outputId": "502968ec-20c2-49fa-e5a1-3f56bf616093"
   },
   "outputs": [
    {
     "data": {
      "text/plain": [
       "array([[2589,    0,    0,    0],\n",
       "       [2235,    0,    0,    0],\n",
       "       [1240,    0,    0,    0],\n",
       "       [1113,    0,    0,    0]])"
      ]
     },
     "execution_count": 92,
     "metadata": {},
     "output_type": "execute_result"
    }
   ],
   "source": [
    "confusion_matrix(y_test_tm,y_preds)"
   ]
  },
  {
   "cell_type": "code",
   "execution_count": 93,
   "metadata": {
    "colab": {
     "base_uri": "https://localhost:8080/"
    },
    "id": "dgi0m9EShG5h",
    "outputId": "eb5f45a1-a56f-4eae-9182-66f5b5a6a762"
   },
   "outputs": [
    {
     "data": {
      "text/plain": [
       "0.36073568343318935"
      ]
     },
     "execution_count": 93,
     "metadata": {},
     "output_type": "execute_result"
    }
   ],
   "source": [
    "accuracy_score(y_test_tm,y_preds)"
   ]
  },
  {
   "cell_type": "code",
   "execution_count": 94,
   "metadata": {
    "colab": {
     "base_uri": "https://localhost:8080/"
    },
    "id": "bW2Fz7oOhKVV",
    "outputId": "bf16ad64-a70e-4f27-a9de-e32ff7a4fecc"
   },
   "outputs": [
    {
     "data": {
      "text/plain": [
       "0.1912645268090369"
      ]
     },
     "execution_count": 94,
     "metadata": {},
     "output_type": "execute_result"
    }
   ],
   "source": [
    "f1_score(y_test_tm,y_preds, average='weighted')"
   ]
  },
  {
   "cell_type": "code",
   "execution_count": 95,
   "metadata": {
    "colab": {
     "base_uri": "https://localhost:8080/"
    },
    "id": "-y4-zBy_rLsE",
    "outputId": "29175fee-f321-4a41-f046-5e30fefbed5f"
   },
   "outputs": [
    {
     "name": "stdout",
     "output_type": "stream",
     "text": [
      "              precision    recall  f1-score   support\n",
      "\n",
      "           0       0.36      1.00      0.53      2589\n",
      "           1       0.00      0.00      0.00      2235\n",
      "           2       0.00      0.00      0.00      1240\n",
      "           3       0.00      0.00      0.00      1113\n",
      "\n",
      "    accuracy                           0.36      7177\n",
      "   macro avg       0.09      0.25      0.13      7177\n",
      "weighted avg       0.13      0.36      0.19      7177\n",
      "\n"
     ]
    },
    {
     "name": "stderr",
     "output_type": "stream",
     "text": [
      "/usr/local/lib/python3.7/dist-packages/sklearn/metrics/_classification.py:1318: UndefinedMetricWarning: Precision and F-score are ill-defined and being set to 0.0 in labels with no predicted samples. Use `zero_division` parameter to control this behavior.\n",
      "  _warn_prf(average, modifier, msg_start, len(result))\n",
      "/usr/local/lib/python3.7/dist-packages/sklearn/metrics/_classification.py:1318: UndefinedMetricWarning: Precision and F-score are ill-defined and being set to 0.0 in labels with no predicted samples. Use `zero_division` parameter to control this behavior.\n",
      "  _warn_prf(average, modifier, msg_start, len(result))\n",
      "/usr/local/lib/python3.7/dist-packages/sklearn/metrics/_classification.py:1318: UndefinedMetricWarning: Precision and F-score are ill-defined and being set to 0.0 in labels with no predicted samples. Use `zero_division` parameter to control this behavior.\n",
      "  _warn_prf(average, modifier, msg_start, len(result))\n"
     ]
    }
   ],
   "source": [
    "print(classification_report(y_test_tm,y_preds))"
   ]
  },
  {
   "cell_type": "code",
   "execution_count": null,
   "metadata": {
    "id": "j-fU282Zi3oh"
   },
   "outputs": [],
   "source": []
  }
 ],
 "metadata": {
  "accelerator": "GPU",
  "colab": {
   "collapsed_sections": [],
   "machine_shape": "hm",
   "name": "03_Buckets_VGG16.ipynb",
   "provenance": []
  },
  "kernelspec": {
   "display_name": "Python 3",
   "language": "python",
   "name": "python3"
  },
  "language_info": {
   "codemirror_mode": {
    "name": "ipython",
    "version": 3
   },
   "file_extension": ".py",
   "mimetype": "text/x-python",
   "name": "python",
   "nbconvert_exporter": "python",
   "pygments_lexer": "ipython3",
   "version": "3.8.5"
  }
 },
 "nbformat": 4,
 "nbformat_minor": 4
}
