{
 "cells": [
  {
   "cell_type": "markdown",
   "metadata": {},
   "source": [
    "# Explore Dropout and L2 Regularization Techniques to Combat Overfitting"
   ]
  },
  {
   "cell_type": "markdown",
   "metadata": {
    "id": "y3lQrJfnvYEk"
   },
   "source": [
    "## Data Preprocessing"
   ]
  },
  {
   "cell_type": "code",
   "execution_count": 1,
   "metadata": {
    "id": "I5n8BgAivsPn"
   },
   "outputs": [],
   "source": [
    "import tensorflow as tf\n",
    "import numpy as np\n",
    "from numpy.random import randn\n",
    "import pathlib\n",
    "import random\n",
    "from PIL import Image\n",
    "import cv2\n",
    "from matplotlib.image import imread\n",
    "from keras.preprocessing import image\n",
    "import matplotlib.pyplot as plt\n",
    "import pandas as pd"
   ]
  },
  {
   "cell_type": "code",
   "execution_count": 2,
   "metadata": {
    "colab": {
     "base_uri": "https://localhost:8080/"
    },
    "id": "2ol-ksCqAWWj",
    "outputId": "ee8f02a7-0101-4ff1-c719-585fa2df2c42"
   },
   "outputs": [
    {
     "name": "stdout",
     "output_type": "stream",
     "text": [
      "Cloning into 'Facial-Detection-and-Emotion-Classifier'...\n",
      "remote: Enumerating objects: 87358, done.\u001b[K\n",
      "remote: Counting objects: 100% (152/152), done.\u001b[K\n",
      "remote: Compressing objects: 100% (90/90), done.\u001b[K\n",
      "remote: Total 87358 (delta 59), reused 148 (delta 58), pack-reused 87206\u001b[K\n",
      "Receiving objects: 100% (87358/87358), 345.70 MiB | 12.35 MiB/s, done.\n",
      "Resolving deltas: 100% (138/138), done.\n",
      "Checking out files: 100% (134181/134181), done.\n"
     ]
    }
   ],
   "source": [
    "!git clone https://github.com/PranavM98/Facial-Detection-and-Emotion-Classifier.git"
   ]
  },
  {
   "cell_type": "code",
   "execution_count": 32,
   "metadata": {
    "id": "3K8NRQi-wg53"
   },
   "outputs": [],
   "source": [
    "#Image Folder\n",
    "data_dir = pathlib.Path(\"/content/Facial-Detection-and-Emotion-Classifier/00_Data/01_Transformed_Data/Resized_Emotion_Images/\")"
   ]
  },
  {
   "cell_type": "code",
   "execution_count": 33,
   "metadata": {
    "id": "bpCSQOOjwtop"
   },
   "outputs": [],
   "source": [
    "#Emotion Labels\n",
    "label_names={'happy':0,\n",
    "            'sad':1,\n",
    "            'neutral':2\n",
    "}"
   ]
  },
  {
   "cell_type": "code",
   "execution_count": 34,
   "metadata": {
    "id": "xu1HAzear9Yx"
   },
   "outputs": [],
   "source": [
    "#Saving images into a list img_data\n",
    "img_data=[]\n",
    "count=0\n",
    "all_images = list(data_dir.glob('*'))\n",
    "all_labels=[]\n",
    "kernel = np.array([[0, -1, 0],\n",
    "              [-1, 5,-1],\n",
    "              [0, -1, 0]])\n",
    "\n",
    "wrong_emotion=['disgust','fear','surprise','fea','angry']\n",
    "for i in all_images:\n",
    "  a=str(i)[str(i).rfind('/')+1:]\n",
    "  emotion=a[:a.find('_')]\n",
    "\n",
    "  if emotion not in wrong_emotion :\n",
    "    img=Image.open(str(i))\n",
    "    #Resize Images\n",
    "    img=img.resize((64,64))\n",
    "    img=np.array(img).astype('float64')\n",
    "    #img = cv2.filter2D(src=img, ddepth=-1, kernel=kernel)\n",
    "    img=img/255\n",
    "    img_data.append(img)\n"
   ]
  },
  {
   "cell_type": "code",
   "execution_count": 35,
   "metadata": {
    "id": "r5JoY4r-VVHN"
   },
   "outputs": [],
   "source": [
    "#Augmented Data\n",
    "\n",
    "from google.colab.patches import cv2_imshow\n",
    "\n",
    "\n",
    "'''\n",
    "Sharpening the Image by convolving with the filter\n",
    "\n",
    "'''\n",
    "kernel = np.array([[0, -1, 0],\n",
    "              [-1, 5,-1],\n",
    "              [0, -1, 0]])\n",
    "\n",
    "aug_img_data=[]\n",
    "for i in img_data:\n",
    "  image_sharp = cv2.filter2D(src=i, ddepth=-1, kernel=kernel)\n",
    "  aug_img_data.append(image_sharp)\n",
    "\n"
   ]
  },
  {
   "cell_type": "code",
   "execution_count": 36,
   "metadata": {
    "id": "VALVhQvhwtbQ"
   },
   "outputs": [],
   "source": [
    "#All labels - 0, 1, 2\n",
    "data=pd.read_csv(\"/content/Facial-Detection-and-Emotion-Classifier/00_Data/01_Transformed_Data/emotion_label.csv\")\n",
    "\n",
    "all_images = list(data_dir.glob('*'))\n",
    "all_labels=[]\n",
    "for i in all_images:\n",
    "  file=str(i)[str(i).rfind('/')+1:]\n",
    "  \n",
    "  a=str(i)[str(i).rfind('/')+1:]\n",
    "  emotion=a[:a.find('_')]\n",
    "\n",
    "  if emotion not in wrong_emotion:\n",
    "    all_labels.append(label_names[data[data['Filename']==file]['label'].values[0]])"
   ]
  },
  {
   "cell_type": "code",
   "execution_count": 37,
   "metadata": {
    "colab": {
     "base_uri": "https://localhost:8080/"
    },
    "id": "GP9croQNIg6O",
    "outputId": "7fb6a442-a68d-4505-80db-a5bcc50460ff"
   },
   "outputs": [
    {
     "data": {
      "text/plain": [
       "0    8989\n",
       "2    6198\n",
       "1    6077\n",
       "dtype: int64"
      ]
     },
     "execution_count": 37,
     "metadata": {},
     "output_type": "execute_result"
    }
   ],
   "source": [
    "#number of images in each label 0- happy, 1 - sad, 2 - neutral\n",
    "pd.Series(all_labels).value_counts()"
   ]
  },
  {
   "cell_type": "code",
   "execution_count": 9,
   "metadata": {
    "id": "XTCMT6-7IhFa"
   },
   "outputs": [],
   "source": [
    "#Setting Seed\n",
    "tf.random.set_seed(\n",
    "    5\n",
    ")"
   ]
  },
  {
   "cell_type": "code",
   "execution_count": 38,
   "metadata": {
    "id": "J7hGiiYKr9Yy"
   },
   "outputs": [],
   "source": [
    "#Masking\n",
    "top_mask=[]\n",
    "bottom_mask=[]\n",
    "three_fourth_mask=[]\n",
    "def creating_mask():\n",
    "    a=np.array([0]*2048)\n",
    "    a=a.reshape((32,64))\n",
    "    b=np.array([1]*2048)\n",
    "    b=b.reshape((32,64))\n",
    "    return a,b\n",
    "\n",
    "\n",
    "for i in img_data:\n",
    "    a,b=creating_mask()\n",
    "    con_bot = np.concatenate((b,a),axis=0)\n",
    "    con_top = np.concatenate((a,b),axis=0)\n",
    "    #bottom_mask.append(np.multiply(con_bot,i))\n",
    "    #top_mask.append(np.multiply(con_top,i))\n",
    "    bottom_mask.append(i[:32,:])\n",
    "    top_mask.append(i[32:,:])\n",
    "    three_fourth_mask.append(i[16:,:])\n",
    "\n"
   ]
  },
  {
   "cell_type": "code",
   "execution_count": 39,
   "metadata": {
    "id": "TOJeqsFMr9Yz"
   },
   "outputs": [],
   "source": [
    "import pickle\n"
   ]
  },
  {
   "cell_type": "code",
   "execution_count": 67,
   "metadata": {
    "id": "4zOCF1wQvYEl"
   },
   "outputs": [],
   "source": [
    "#No Mask\n",
    "data_size=len(all_images)\n",
    "\n",
    "train_test_split=(int)(data_size*0.2)\n",
    "\n",
    "x_train=img_data[train_test_split:]\n",
    "x_test=img_data[:train_test_split]\n",
    "\n",
    "y_train=all_labels[train_test_split:]\n",
    "y_test=all_labels[:train_test_split]\n",
    "\n",
    "\n"
   ]
  },
  {
   "cell_type": "code",
   "execution_count": 68,
   "metadata": {
    "id": "To_WPWDKcTpd"
   },
   "outputs": [],
   "source": [
    "\n",
    "kernel = np.array([[0, -1, 0],\n",
    "              [-1, 5,-1],\n",
    "              [0, -1, 0]])\n",
    "\n",
    "aug_x_train=[]\n",
    "for i in x_train:\n",
    "  image_sharp = cv2.filter2D(src=i, ddepth=-1, kernel=kernel)\n",
    "  aug_x_train.append(image_sharp)"
   ]
  },
  {
   "cell_type": "code",
   "execution_count": 69,
   "metadata": {
    "colab": {
     "base_uri": "https://localhost:8080/"
    },
    "id": "vAFDvfalxiex",
    "outputId": "62466360-f8a5-4c5e-b90d-58311fa0460d"
   },
   "outputs": [
    {
     "data": {
      "text/plain": [
       "14087"
      ]
     },
     "execution_count": 69,
     "metadata": {},
     "output_type": "execute_result"
    }
   ],
   "source": [
    "len(aug_x_train)"
   ]
  },
  {
   "cell_type": "code",
   "execution_count": 70,
   "metadata": {
    "id": "llqV5LvQ163a"
   },
   "outputs": [],
   "source": [
    "\n",
    "for i in range(len(x_train)):\n",
    "    x_train[i]=x_train[i].reshape((64,64,1))\n",
    "\n",
    "\n",
    "for i in range(len(x_test)):\n",
    "    x_test[i]=x_test[i].reshape((64,64,1))\n",
    "\n",
    "\n",
    "for i in range(len(aug_x_train)):\n",
    "    aug_x_train[i]=aug_x_train[i].reshape((64,64,1))\n",
    "\n",
    "\n",
    "\n"
   ]
  },
  {
   "cell_type": "code",
   "execution_count": 71,
   "metadata": {
    "id": "mFSKGMepx1CU"
   },
   "outputs": [],
   "source": [
    "#Creating final X and Y train datasets\n",
    "final_x_train=x_train+aug_x_train\n",
    "final_y_train=y_train+y_train"
   ]
  },
  {
   "cell_type": "code",
   "execution_count": 72,
   "metadata": {
    "id": "lmVKsApNtoH7"
   },
   "outputs": [],
   "source": [
    "#----\n",
    "final_x=final_x_train+x_test\n",
    "final_y=final_y_train+y_test\n",
    "final_train_dataset = tf.data.Dataset.from_tensor_slices((np.asarray(final_x), np.array(final_y)))\n"
   ]
  },
  {
   "cell_type": "code",
   "execution_count": 73,
   "metadata": {
    "id": "cXm7a_BWr9Y4"
   },
   "outputs": [],
   "source": [
    "#creating final datasets for training and testing\n",
    "train_dataset = tf.data.Dataset.from_tensor_slices((np.asarray(final_x_train), np.array(final_y_train)))\n",
    "test_dataset = tf.data.Dataset.from_tensor_slices((np.asarray(x_test), np.array(y_test)))"
   ]
  },
  {
   "cell_type": "markdown",
   "metadata": {
    "id": "gRARkaMYmvXg"
   },
   "source": [
    "## VGG-16 Model"
   ]
  },
  {
   "cell_type": "markdown",
   "metadata": {
    "id": "p_Nv91fp_yWy"
   },
   "source": [
    "### Regularization"
   ]
  },
  {
   "cell_type": "code",
   "execution_count": 19,
   "metadata": {
    "id": "FH0zcDPpkZOS"
   },
   "outputs": [],
   "source": [
    "from tensorflow.keras.layers import Input, Conv2D\n",
    "from tensorflow.keras.layers import MaxPool2D, Flatten, Dense,Dropout\n",
    "from tensorflow.keras import Model"
   ]
  },
  {
   "cell_type": "code",
   "execution_count": 20,
   "metadata": {
    "id": "6bqvBrqIkZpt"
   },
   "outputs": [],
   "source": [
    "input = Input(shape=(64,64,1))"
   ]
  },
  {
   "cell_type": "code",
   "execution_count": 21,
   "metadata": {
    "id": "i9IQrxZ_kqzQ"
   },
   "outputs": [],
   "source": [
    "x=Conv2D(filters=64,kernel_size=3, padding='same',activation='relu')(input)\n",
    "x=Conv2D(filters=64,kernel_size=3, padding='same',activation='relu')(x)\n",
    "x=MaxPool2D(pool_size =2, strides =2, padding ='same')(x)\n"
   ]
  },
  {
   "cell_type": "code",
   "execution_count": 22,
   "metadata": {
    "id": "e6njts_AlHg4"
   },
   "outputs": [],
   "source": [
    "x=Conv2D(filters=128,kernel_size=3, padding='same', activation='relu')(x)\n",
    "x=Conv2D(filters=128,kernel_size=3, padding='same', activation='relu')(x)\n",
    "x=MaxPool2D(pool_size=2, strides=2, padding= 'same')(x)\n"
   ]
  },
  {
   "cell_type": "code",
   "execution_count": 23,
   "metadata": {
    "id": "D3EksmWElV2c"
   },
   "outputs": [],
   "source": [
    "x=Conv2D(filters=256, kernel_size=3, padding = 'same', activation='relu')(x)\n",
    "x=Conv2D(filters=256, kernel_size=3, padding = 'same', activation='relu')(x)\n",
    "x=Conv2D(filters=256, kernel_size=3, padding = 'same', activation='relu')(x)\n",
    "x=MaxPool2D(pool_size=2, strides=2, padding='same')(x)\n"
   ]
  },
  {
   "cell_type": "code",
   "execution_count": 24,
   "metadata": {
    "id": "CcsQ1XFrly4x"
   },
   "outputs": [],
   "source": [
    "x=Conv2D(filters=512, kernel_size=3, padding = 'same', activation='relu')(x)\n",
    "x=Conv2D(filters=512, kernel_size=3, padding = 'same', activation='relu')(x)\n",
    "x=Conv2D(filters=512, kernel_size=3, padding = 'same', activation='relu')(x)\n",
    "x=MaxPool2D(pool_size=2, strides=2, padding='same')(x)\n",
    "\n",
    "\n",
    "x=Conv2D(filters=512, kernel_size=3, padding = 'same', activation='relu')(x)\n",
    "x=Conv2D(filters=512, kernel_size=3, padding = 'same', activation='relu')(x)\n",
    "x=Conv2D(filters=512, kernel_size=3, padding = 'same', activation='relu')(x)\n",
    "x=MaxPool2D(pool_size=2, strides=2, padding='same')(x)\n",
    "\n"
   ]
  },
  {
   "cell_type": "code",
   "execution_count": 25,
   "metadata": {
    "id": "UUYE9BHel4qY"
   },
   "outputs": [],
   "source": [
    "x=Flatten()(x)\n",
    "x=Dense(units=4096, activation='relu',kernel_regularizer=tf.keras.regularizers.L2(0.0001))(x)\n",
    "x=Dense(units=4096, activation='relu',kernel_regularizer=tf.keras.regularizers.L2(0.0001))(x)\n",
    "x=Dense(units=1000, activation='relu',kernel_regularizer=tf.keras.regularizers.L2(0.0001))(x)\n",
    "output=Dense(units=3, activation='softmax')(x)"
   ]
  },
  {
   "cell_type": "code",
   "execution_count": 26,
   "metadata": {
    "colab": {
     "base_uri": "https://localhost:8080/"
    },
    "id": "KFlYtzEZmPcq",
    "outputId": "8e337741-ec05-4fd3-dcfe-370f9931ee19"
   },
   "outputs": [
    {
     "name": "stdout",
     "output_type": "stream",
     "text": [
      "Model: \"model\"\n",
      "_________________________________________________________________\n",
      " Layer (type)                Output Shape              Param #   \n",
      "=================================================================\n",
      " input_1 (InputLayer)        [(None, 64, 64, 1)]       0         \n",
      "                                                                 \n",
      " conv2d (Conv2D)             (None, 64, 64, 64)        640       \n",
      "                                                                 \n",
      " conv2d_1 (Conv2D)           (None, 64, 64, 64)        36928     \n",
      "                                                                 \n",
      " max_pooling2d (MaxPooling2D  (None, 32, 32, 64)       0         \n",
      " )                                                               \n",
      "                                                                 \n",
      " conv2d_2 (Conv2D)           (None, 32, 32, 128)       73856     \n",
      "                                                                 \n",
      " conv2d_3 (Conv2D)           (None, 32, 32, 128)       147584    \n",
      "                                                                 \n",
      " max_pooling2d_1 (MaxPooling  (None, 16, 16, 128)      0         \n",
      " 2D)                                                             \n",
      "                                                                 \n",
      " conv2d_4 (Conv2D)           (None, 16, 16, 256)       295168    \n",
      "                                                                 \n",
      " conv2d_5 (Conv2D)           (None, 16, 16, 256)       590080    \n",
      "                                                                 \n",
      " conv2d_6 (Conv2D)           (None, 16, 16, 256)       590080    \n",
      "                                                                 \n",
      " max_pooling2d_2 (MaxPooling  (None, 8, 8, 256)        0         \n",
      " 2D)                                                             \n",
      "                                                                 \n",
      " conv2d_7 (Conv2D)           (None, 8, 8, 512)         1180160   \n",
      "                                                                 \n",
      " conv2d_8 (Conv2D)           (None, 8, 8, 512)         2359808   \n",
      "                                                                 \n",
      " conv2d_9 (Conv2D)           (None, 8, 8, 512)         2359808   \n",
      "                                                                 \n",
      " max_pooling2d_3 (MaxPooling  (None, 4, 4, 512)        0         \n",
      " 2D)                                                             \n",
      "                                                                 \n",
      " conv2d_10 (Conv2D)          (None, 4, 4, 512)         2359808   \n",
      "                                                                 \n",
      " conv2d_11 (Conv2D)          (None, 4, 4, 512)         2359808   \n",
      "                                                                 \n",
      " conv2d_12 (Conv2D)          (None, 4, 4, 512)         2359808   \n",
      "                                                                 \n",
      " max_pooling2d_4 (MaxPooling  (None, 2, 2, 512)        0         \n",
      " 2D)                                                             \n",
      "                                                                 \n",
      " flatten (Flatten)           (None, 2048)              0         \n",
      "                                                                 \n",
      " dense (Dense)               (None, 4096)              8392704   \n",
      "                                                                 \n",
      " dense_1 (Dense)             (None, 4096)              16781312  \n",
      "                                                                 \n",
      " dense_2 (Dense)             (None, 1000)              4097000   \n",
      "                                                                 \n",
      " dense_3 (Dense)             (None, 3)                 3003      \n",
      "                                                                 \n",
      "=================================================================\n",
      "Total params: 43,987,555\n",
      "Trainable params: 43,987,555\n",
      "Non-trainable params: 0\n",
      "_________________________________________________________________\n"
     ]
    }
   ],
   "source": [
    "model=Model(inputs=input, outputs=output)\n",
    "model.summary()"
   ]
  },
  {
   "cell_type": "code",
   "execution_count": 27,
   "metadata": {
    "id": "UR3A4ChlmWVP"
   },
   "outputs": [],
   "source": [
    "model.compile(\n",
    "    optimizer=tf.keras.optimizers.Adam(0.0001),\n",
    "    loss=tf.keras.losses.SparseCategoricalCrossentropy(),\n",
    "    metrics=tf.keras.metrics.SparseCategoricalAccuracy()\n",
    ")\n"
   ]
  },
  {
   "cell_type": "code",
   "execution_count": 28,
   "metadata": {
    "id": "8caXRISvr9Y7"
   },
   "outputs": [],
   "source": [
    "BATCH_SIZE = 64\n",
    "SHUFFLE_BUFFER_SIZE = 100\n",
    "\n",
    "train_dataset = train_dataset.shuffle(SHUFFLE_BUFFER_SIZE).batch(BATCH_SIZE)\n",
    "test_dataset = test_dataset.batch(BATCH_SIZE)\n",
    "\n",
    "final_train_dataset = final_train_dataset.shuffle(SHUFFLE_BUFFER_SIZE).batch(BATCH_SIZE)\n"
   ]
  },
  {
   "cell_type": "code",
   "execution_count": 29,
   "metadata": {
    "colab": {
     "base_uri": "https://localhost:8080/"
    },
    "id": "fSCiNsqJr9Y7",
    "outputId": "fef93450-6273-4f58-dd02-740c876b586b"
   },
   "outputs": [
    {
     "name": "stdout",
     "output_type": "stream",
     "text": [
      "Epoch 1/25\n",
      "441/441 [==============================] - 36s 59ms/step - loss: 1.3340 - sparse_categorical_accuracy: 0.4243 - val_loss: 1.0789 - val_sparse_categorical_accuracy: 0.4811\n",
      "Epoch 2/25\n",
      "441/441 [==============================] - 25s 57ms/step - loss: 0.8719 - sparse_categorical_accuracy: 0.5760 - val_loss: 0.8358 - val_sparse_categorical_accuracy: 0.5894\n",
      "Epoch 3/25\n",
      "441/441 [==============================] - 25s 57ms/step - loss: 0.7315 - sparse_categorical_accuracy: 0.6449 - val_loss: 0.7386 - val_sparse_categorical_accuracy: 0.6359\n",
      "Epoch 4/25\n",
      "441/441 [==============================] - 25s 57ms/step - loss: 0.6603 - sparse_categorical_accuracy: 0.6884 - val_loss: 0.7370 - val_sparse_categorical_accuracy: 0.6465\n",
      "Epoch 5/25\n",
      "441/441 [==============================] - 25s 57ms/step - loss: 0.5924 - sparse_categorical_accuracy: 0.7291 - val_loss: 0.7565 - val_sparse_categorical_accuracy: 0.6531\n",
      "Epoch 6/25\n",
      "441/441 [==============================] - 25s 56ms/step - loss: 0.5161 - sparse_categorical_accuracy: 0.7759 - val_loss: 0.7480 - val_sparse_categorical_accuracy: 0.6705\n",
      "Epoch 7/25\n",
      "441/441 [==============================] - 25s 56ms/step - loss: 0.4442 - sparse_categorical_accuracy: 0.8136 - val_loss: 0.7928 - val_sparse_categorical_accuracy: 0.6678\n",
      "Epoch 8/25\n",
      "441/441 [==============================] - 25s 57ms/step - loss: 0.3646 - sparse_categorical_accuracy: 0.8530 - val_loss: 0.9096 - val_sparse_categorical_accuracy: 0.6765\n",
      "Epoch 9/25\n",
      "441/441 [==============================] - 25s 56ms/step - loss: 0.2850 - sparse_categorical_accuracy: 0.8928 - val_loss: 1.2223 - val_sparse_categorical_accuracy: 0.6556\n",
      "Epoch 10/25\n",
      "441/441 [==============================] - 25s 56ms/step - loss: 0.2104 - sparse_categorical_accuracy: 0.9235 - val_loss: 1.2273 - val_sparse_categorical_accuracy: 0.6765\n",
      "Epoch 11/25\n",
      "441/441 [==============================] - 25s 57ms/step - loss: 0.1571 - sparse_categorical_accuracy: 0.9445 - val_loss: 1.0888 - val_sparse_categorical_accuracy: 0.7071\n",
      "Epoch 12/25\n",
      "441/441 [==============================] - 25s 56ms/step - loss: 0.1209 - sparse_categorical_accuracy: 0.9595 - val_loss: 1.3812 - val_sparse_categorical_accuracy: 0.6531\n",
      "Epoch 13/25\n",
      "441/441 [==============================] - 25s 56ms/step - loss: 0.0920 - sparse_categorical_accuracy: 0.9696 - val_loss: 1.2844 - val_sparse_categorical_accuracy: 0.6971\n",
      "Epoch 14/25\n",
      "441/441 [==============================] - 25s 57ms/step - loss: 0.0740 - sparse_categorical_accuracy: 0.9761 - val_loss: 1.3180 - val_sparse_categorical_accuracy: 0.7035\n",
      "Epoch 15/25\n",
      "441/441 [==============================] - 25s 56ms/step - loss: 0.0578 - sparse_categorical_accuracy: 0.9818 - val_loss: 1.2174 - val_sparse_categorical_accuracy: 0.7056\n",
      "Epoch 16/25\n",
      "441/441 [==============================] - 25s 56ms/step - loss: 0.0491 - sparse_categorical_accuracy: 0.9842 - val_loss: 1.4541 - val_sparse_categorical_accuracy: 0.6876\n",
      "Epoch 17/25\n",
      "441/441 [==============================] - 25s 56ms/step - loss: 0.0467 - sparse_categorical_accuracy: 0.9854 - val_loss: 1.4708 - val_sparse_categorical_accuracy: 0.6996\n",
      "Epoch 18/25\n",
      "441/441 [==============================] - 25s 56ms/step - loss: 0.0410 - sparse_categorical_accuracy: 0.9870 - val_loss: 1.4378 - val_sparse_categorical_accuracy: 0.7027\n",
      "Epoch 19/25\n",
      "441/441 [==============================] - 25s 56ms/step - loss: 0.0373 - sparse_categorical_accuracy: 0.9883 - val_loss: 1.3870 - val_sparse_categorical_accuracy: 0.6989\n",
      "Epoch 20/25\n",
      "441/441 [==============================] - 25s 56ms/step - loss: 0.0355 - sparse_categorical_accuracy: 0.9889 - val_loss: 1.5332 - val_sparse_categorical_accuracy: 0.6911\n",
      "Epoch 21/25\n",
      "441/441 [==============================] - 25s 56ms/step - loss: 0.0336 - sparse_categorical_accuracy: 0.9891 - val_loss: 1.5606 - val_sparse_categorical_accuracy: 0.7004\n",
      "Epoch 22/25\n",
      "441/441 [==============================] - 25s 56ms/step - loss: 0.0293 - sparse_categorical_accuracy: 0.9913 - val_loss: 1.4115 - val_sparse_categorical_accuracy: 0.7031\n",
      "Epoch 23/25\n",
      "441/441 [==============================] - 25s 56ms/step - loss: 0.0254 - sparse_categorical_accuracy: 0.9927 - val_loss: 1.3090 - val_sparse_categorical_accuracy: 0.7138\n",
      "Epoch 24/25\n",
      "441/441 [==============================] - 25s 56ms/step - loss: 0.0261 - sparse_categorical_accuracy: 0.9921 - val_loss: 1.3541 - val_sparse_categorical_accuracy: 0.7020\n",
      "Epoch 25/25\n",
      "441/441 [==============================] - 25s 56ms/step - loss: 0.0263 - sparse_categorical_accuracy: 0.9920 - val_loss: 1.4182 - val_sparse_categorical_accuracy: 0.7158\n"
     ]
    }
   ],
   "source": [
    "callback = tf.keras.callbacks.EarlyStopping(monitor='val_sparse_categorical_accuracy', patience=25,\n",
    "                                            restore_best_weights=True, mode='max')\n",
    "history_regularization=model.fit(train_dataset, epochs=25, validation_data=(test_dataset),callbacks=[callback])"
   ]
  },
  {
   "cell_type": "code",
   "execution_count": 283,
   "metadata": {
    "colab": {
     "base_uri": "https://localhost:8080/"
    },
    "id": "u6bN0feM2dZc",
    "outputId": "d561b6d5-87bd-49f5-92e2-b4378a13b90b"
   },
   "outputs": [
    {
     "data": {
      "text/plain": [
       "<keras.callbacks.History at 0x7fb1abc03910>"
      ]
     },
     "execution_count": 283,
     "metadata": {},
     "output_type": "execute_result"
    }
   ],
   "source": [
    "history"
   ]
  },
  {
   "cell_type": "code",
   "execution_count": 47,
   "metadata": {
    "colab": {
     "base_uri": "https://localhost:8080/"
    },
    "id": "e45CSMal2dip",
    "outputId": "d33d7b56-3982-4d5d-8dc7-bfc3951103b3"
   },
   "outputs": [
    {
     "name": "stdout",
     "output_type": "stream",
     "text": [
      "Model: \"model_2\"\n",
      "_________________________________________________________________\n",
      " Layer (type)                Output Shape              Param #   \n",
      "=================================================================\n",
      " input_3 (InputLayer)        [(None, 64, 64, 1)]       0         \n",
      "                                                                 \n",
      " conv2d_26 (Conv2D)          (None, 64, 64, 64)        640       \n",
      "                                                                 \n",
      " conv2d_27 (Conv2D)          (None, 64, 64, 64)        36928     \n",
      "                                                                 \n",
      " max_pooling2d_10 (MaxPoolin  (None, 32, 32, 64)       0         \n",
      " g2D)                                                            \n",
      "                                                                 \n",
      " conv2d_28 (Conv2D)          (None, 32, 32, 128)       73856     \n",
      "                                                                 \n",
      " conv2d_29 (Conv2D)          (None, 32, 32, 128)       147584    \n",
      "                                                                 \n",
      " max_pooling2d_11 (MaxPoolin  (None, 16, 16, 128)      0         \n",
      " g2D)                                                            \n",
      "                                                                 \n",
      " conv2d_30 (Conv2D)          (None, 16, 16, 256)       295168    \n",
      "                                                                 \n",
      " conv2d_31 (Conv2D)          (None, 16, 16, 256)       590080    \n",
      "                                                                 \n",
      " conv2d_32 (Conv2D)          (None, 16, 16, 256)       590080    \n",
      "                                                                 \n",
      " max_pooling2d_12 (MaxPoolin  (None, 8, 8, 256)        0         \n",
      " g2D)                                                            \n",
      "                                                                 \n",
      " conv2d_33 (Conv2D)          (None, 8, 8, 512)         1180160   \n",
      "                                                                 \n",
      " conv2d_34 (Conv2D)          (None, 8, 8, 512)         2359808   \n",
      "                                                                 \n",
      " conv2d_35 (Conv2D)          (None, 8, 8, 512)         2359808   \n",
      "                                                                 \n",
      " max_pooling2d_13 (MaxPoolin  (None, 4, 4, 512)        0         \n",
      " g2D)                                                            \n",
      "                                                                 \n",
      " dropout_2 (Dropout)         (None, 4, 4, 512)         0         \n",
      "                                                                 \n",
      " conv2d_36 (Conv2D)          (None, 4, 4, 512)         2359808   \n",
      "                                                                 \n",
      " conv2d_37 (Conv2D)          (None, 4, 4, 512)         2359808   \n",
      "                                                                 \n",
      " conv2d_38 (Conv2D)          (None, 4, 4, 512)         2359808   \n",
      "                                                                 \n",
      " max_pooling2d_14 (MaxPoolin  (None, 2, 2, 512)        0         \n",
      " g2D)                                                            \n",
      "                                                                 \n",
      " dropout_3 (Dropout)         (None, 2, 2, 512)         0         \n",
      "                                                                 \n",
      " flatten_2 (Flatten)         (None, 2048)              0         \n",
      "                                                                 \n",
      " dense_8 (Dense)             (None, 4096)              8392704   \n",
      "                                                                 \n",
      " dense_9 (Dense)             (None, 4096)              16781312  \n",
      "                                                                 \n",
      " dense_10 (Dense)            (None, 1000)              4097000   \n",
      "                                                                 \n",
      " dense_11 (Dense)            (None, 3)                 3003      \n",
      "                                                                 \n",
      "=================================================================\n",
      "Total params: 43,987,555\n",
      "Trainable params: 43,987,555\n",
      "Non-trainable params: 0\n",
      "_________________________________________________________________\n"
     ]
    }
   ],
   "source": [
    "input = Input(shape=(64,64,1))\n",
    "x=Conv2D(filters=64,kernel_size=3, padding='same',activation='relu')(input)\n",
    "x=Conv2D(filters=64,kernel_size=3, padding='same',activation='relu')(x)\n",
    "x=MaxPool2D(pool_size =2, strides =2, padding ='same')(x)\n",
    "\n",
    "x=Conv2D(filters=128,kernel_size=3, padding='same', activation='relu')(x)\n",
    "x=Conv2D(filters=128,kernel_size=3, padding='same', activation='relu')(x)\n",
    "x=MaxPool2D(pool_size=2, strides=2, padding= 'same')(x)\n",
    "\n",
    "x=Conv2D(filters=256, kernel_size=3, padding = 'same', activation='relu')(x)\n",
    "x=Conv2D(filters=256, kernel_size=3, padding = 'same', activation='relu')(x)\n",
    "x=Conv2D(filters=256, kernel_size=3, padding = 'same', activation='relu')(x)\n",
    "x=MaxPool2D(pool_size=2, strides=2, padding='same')(x)\n",
    "\n",
    "x=Conv2D(filters=512, kernel_size=3, padding = 'same', activation='relu')(x)\n",
    "x=Conv2D(filters=512, kernel_size=3, padding = 'same', activation='relu')(x)\n",
    "x=Conv2D(filters=512, kernel_size=3, padding = 'same', activation='relu')(x)\n",
    "x=MaxPool2D(pool_size=2, strides=2, padding='same')(x)\n",
    "x=Dropout(0.05)(x)\n",
    "\n",
    "x=Conv2D(filters=512, kernel_size=3, padding = 'same', activation='relu')(x)\n",
    "x=Conv2D(filters=512, kernel_size=3, padding = 'same', activation='relu')(x)\n",
    "x=Conv2D(filters=512, kernel_size=3, padding = 'same', activation='relu')(x)\n",
    "x=MaxPool2D(pool_size=2, strides=2, padding='same')(x)\n",
    "x=Dropout(0.05)(x)\n",
    "\n",
    "x=Flatten()(x)\n",
    "x=Dense(units=4096, activation='relu')(x)\n",
    "x=Dense(units=4096, activation='relu')(x)\n",
    "x=Dense(units=1000, activation='relu')(x)\n",
    "output=Dense(units=3, activation='softmax')(x)\n",
    "\n",
    "model_drop=Model(inputs=input, outputs=output)\n",
    "model_drop.summary()\n"
   ]
  },
  {
   "cell_type": "code",
   "execution_count": 48,
   "metadata": {
    "colab": {
     "base_uri": "https://localhost:8080/"
    },
    "id": "DEOFqcXA2dnr",
    "outputId": "0faeea82-a3be-42ce-ec08-64514a8b7736"
   },
   "outputs": [
    {
     "name": "stdout",
     "output_type": "stream",
     "text": [
      "Epoch 1/25\n",
      "441/441 [==============================] - 25s 54ms/step - loss: 1.0587 - sparse_categorical_accuracy: 0.4416 - val_loss: 0.9876 - val_sparse_categorical_accuracy: 0.4969\n",
      "Epoch 2/25\n",
      "441/441 [==============================] - 24s 54ms/step - loss: 0.8009 - sparse_categorical_accuracy: 0.6064 - val_loss: 0.7891 - val_sparse_categorical_accuracy: 0.6064\n",
      "Epoch 3/25\n",
      "441/441 [==============================] - 24s 54ms/step - loss: 0.6993 - sparse_categorical_accuracy: 0.6660 - val_loss: 0.7734 - val_sparse_categorical_accuracy: 0.6369\n",
      "Epoch 4/25\n",
      "441/441 [==============================] - 24s 54ms/step - loss: 0.6346 - sparse_categorical_accuracy: 0.7042 - val_loss: 0.7424 - val_sparse_categorical_accuracy: 0.6590\n",
      "Epoch 5/25\n",
      "441/441 [==============================] - 24s 54ms/step - loss: 0.5630 - sparse_categorical_accuracy: 0.7491 - val_loss: 0.7720 - val_sparse_categorical_accuracy: 0.6623\n",
      "Epoch 6/25\n",
      "441/441 [==============================] - 24s 54ms/step - loss: 0.4903 - sparse_categorical_accuracy: 0.7911 - val_loss: 0.8069 - val_sparse_categorical_accuracy: 0.6848\n",
      "Epoch 7/25\n",
      "441/441 [==============================] - 24s 54ms/step - loss: 0.4177 - sparse_categorical_accuracy: 0.8270 - val_loss: 0.8316 - val_sparse_categorical_accuracy: 0.7031\n",
      "Epoch 8/25\n",
      "441/441 [==============================] - 24s 53ms/step - loss: 0.3501 - sparse_categorical_accuracy: 0.8618 - val_loss: 1.0191 - val_sparse_categorical_accuracy: 0.6798\n",
      "Epoch 9/25\n",
      "441/441 [==============================] - 24s 53ms/step - loss: 0.2858 - sparse_categorical_accuracy: 0.8897 - val_loss: 1.1445 - val_sparse_categorical_accuracy: 0.6666\n",
      "Epoch 10/25\n",
      "441/441 [==============================] - 24s 54ms/step - loss: 0.2226 - sparse_categorical_accuracy: 0.9169 - val_loss: 1.0847 - val_sparse_categorical_accuracy: 0.7024\n",
      "Epoch 11/25\n",
      "441/441 [==============================] - 24s 53ms/step - loss: 0.1692 - sparse_categorical_accuracy: 0.9389 - val_loss: 1.1995 - val_sparse_categorical_accuracy: 0.6893\n",
      "Epoch 12/25\n",
      "441/441 [==============================] - 24s 53ms/step - loss: 0.1269 - sparse_categorical_accuracy: 0.9537 - val_loss: 1.3507 - val_sparse_categorical_accuracy: 0.6742\n",
      "Epoch 13/25\n",
      "441/441 [==============================] - 24s 54ms/step - loss: 0.1040 - sparse_categorical_accuracy: 0.9637 - val_loss: 1.2688 - val_sparse_categorical_accuracy: 0.7073\n",
      "Epoch 14/25\n",
      "441/441 [==============================] - 24s 53ms/step - loss: 0.0769 - sparse_categorical_accuracy: 0.9740 - val_loss: 1.3001 - val_sparse_categorical_accuracy: 0.6956\n",
      "Epoch 15/25\n",
      "441/441 [==============================] - 24s 54ms/step - loss: 0.0614 - sparse_categorical_accuracy: 0.9783 - val_loss: 1.4022 - val_sparse_categorical_accuracy: 0.7158\n",
      "Epoch 16/25\n",
      "441/441 [==============================] - 24s 54ms/step - loss: 0.0534 - sparse_categorical_accuracy: 0.9811 - val_loss: 1.3761 - val_sparse_categorical_accuracy: 0.7091\n",
      "Epoch 17/25\n",
      "441/441 [==============================] - 24s 54ms/step - loss: 0.0444 - sparse_categorical_accuracy: 0.9843 - val_loss: 1.6072 - val_sparse_categorical_accuracy: 0.7010\n",
      "Epoch 18/25\n",
      "441/441 [==============================] - 24s 53ms/step - loss: 0.0407 - sparse_categorical_accuracy: 0.9862 - val_loss: 1.6169 - val_sparse_categorical_accuracy: 0.6971\n",
      "Epoch 19/25\n",
      "441/441 [==============================] - 24s 54ms/step - loss: 0.0374 - sparse_categorical_accuracy: 0.9866 - val_loss: 1.5986 - val_sparse_categorical_accuracy: 0.7128\n",
      "Epoch 20/25\n",
      "441/441 [==============================] - 24s 54ms/step - loss: 0.0334 - sparse_categorical_accuracy: 0.9883 - val_loss: 1.4110 - val_sparse_categorical_accuracy: 0.7036\n",
      "Epoch 21/25\n",
      "441/441 [==============================] - 24s 54ms/step - loss: 0.0329 - sparse_categorical_accuracy: 0.9894 - val_loss: 1.6212 - val_sparse_categorical_accuracy: 0.7066\n",
      "Epoch 22/25\n",
      "441/441 [==============================] - 24s 54ms/step - loss: 0.0286 - sparse_categorical_accuracy: 0.9902 - val_loss: 1.6685 - val_sparse_categorical_accuracy: 0.7172\n",
      "Epoch 23/25\n",
      "441/441 [==============================] - 24s 54ms/step - loss: 0.0274 - sparse_categorical_accuracy: 0.9912 - val_loss: 1.4753 - val_sparse_categorical_accuracy: 0.7245\n",
      "Epoch 24/25\n",
      "441/441 [==============================] - 24s 54ms/step - loss: 0.0269 - sparse_categorical_accuracy: 0.9902 - val_loss: 1.6221 - val_sparse_categorical_accuracy: 0.7209\n",
      "Epoch 25/25\n",
      "441/441 [==============================] - 24s 54ms/step - loss: 0.0309 - sparse_categorical_accuracy: 0.9895 - val_loss: 1.6031 - val_sparse_categorical_accuracy: 0.7219\n"
     ]
    }
   ],
   "source": [
    "model_drop.compile(\n",
    "    optimizer=tf.keras.optimizers.Adam(0.0001),\n",
    "    loss=tf.keras.losses.SparseCategoricalCrossentropy(),\n",
    "    metrics=tf.keras.metrics.SparseCategoricalAccuracy()\n",
    ")\n",
    "BATCH_SIZE = 64\n",
    "SHUFFLE_BUFFER_SIZE = 100\n",
    "train_dataset = train_dataset.shuffle(SHUFFLE_BUFFER_SIZE).batch(BATCH_SIZE)\n",
    "test_dataset = test_dataset.batch(BATCH_SIZE)\n",
    "\n",
    "final_train_dataset = final_train_dataset.shuffle(SHUFFLE_BUFFER_SIZE).batch(BATCH_SIZE)\n",
    "\n",
    "callback = tf.keras.callbacks.EarlyStopping(monitor='val_sparse_categorical_accuracy',patience=25,\n",
    "                                            restore_best_weights=True, mode='max')\n",
    "history_drop=model_drop.fit(train_dataset, epochs=25, validation_data=(test_dataset),callbacks=[callback])"
   ]
  },
  {
   "cell_type": "markdown",
   "metadata": {
    "id": "JEjdH9zBO5z1"
   },
   "source": [
    "#### Regularization + Dropout"
   ]
  },
  {
   "cell_type": "code",
   "execution_count": 57,
   "metadata": {
    "colab": {
     "base_uri": "https://localhost:8080/"
    },
    "id": "D_DUxraZ2dsw",
    "outputId": "e17d19c3-dbbb-483f-b71c-3eab51a2ec9b"
   },
   "outputs": [
    {
     "name": "stdout",
     "output_type": "stream",
     "text": [
      "Model: \"model_4\"\n",
      "_________________________________________________________________\n",
      " Layer (type)                Output Shape              Param #   \n",
      "=================================================================\n",
      " input_5 (InputLayer)        [(None, 64, 64, 1)]       0         \n",
      "                                                                 \n",
      " conv2d_52 (Conv2D)          (None, 64, 64, 64)        640       \n",
      "                                                                 \n",
      " conv2d_53 (Conv2D)          (None, 64, 64, 64)        36928     \n",
      "                                                                 \n",
      " max_pooling2d_20 (MaxPoolin  (None, 32, 32, 64)       0         \n",
      " g2D)                                                            \n",
      "                                                                 \n",
      " conv2d_54 (Conv2D)          (None, 32, 32, 128)       73856     \n",
      "                                                                 \n",
      " conv2d_55 (Conv2D)          (None, 32, 32, 128)       147584    \n",
      "                                                                 \n",
      " max_pooling2d_21 (MaxPoolin  (None, 16, 16, 128)      0         \n",
      " g2D)                                                            \n",
      "                                                                 \n",
      " conv2d_56 (Conv2D)          (None, 16, 16, 256)       295168    \n",
      "                                                                 \n",
      " conv2d_57 (Conv2D)          (None, 16, 16, 256)       590080    \n",
      "                                                                 \n",
      " conv2d_58 (Conv2D)          (None, 16, 16, 256)       590080    \n",
      "                                                                 \n",
      " max_pooling2d_22 (MaxPoolin  (None, 8, 8, 256)        0         \n",
      " g2D)                                                            \n",
      "                                                                 \n",
      " conv2d_59 (Conv2D)          (None, 8, 8, 512)         1180160   \n",
      "                                                                 \n",
      " conv2d_60 (Conv2D)          (None, 8, 8, 512)         2359808   \n",
      "                                                                 \n",
      " conv2d_61 (Conv2D)          (None, 8, 8, 512)         2359808   \n",
      "                                                                 \n",
      " max_pooling2d_23 (MaxPoolin  (None, 4, 4, 512)        0         \n",
      " g2D)                                                            \n",
      "                                                                 \n",
      " dropout_6 (Dropout)         (None, 4, 4, 512)         0         \n",
      "                                                                 \n",
      " conv2d_62 (Conv2D)          (None, 4, 4, 512)         2359808   \n",
      "                                                                 \n",
      " conv2d_63 (Conv2D)          (None, 4, 4, 512)         2359808   \n",
      "                                                                 \n",
      " conv2d_64 (Conv2D)          (None, 4, 4, 512)         2359808   \n",
      "                                                                 \n",
      " max_pooling2d_24 (MaxPoolin  (None, 2, 2, 512)        0         \n",
      " g2D)                                                            \n",
      "                                                                 \n",
      " dropout_7 (Dropout)         (None, 2, 2, 512)         0         \n",
      "                                                                 \n",
      " flatten_4 (Flatten)         (None, 2048)              0         \n",
      "                                                                 \n",
      " dense_16 (Dense)            (None, 4096)              8392704   \n",
      "                                                                 \n",
      " dense_17 (Dense)            (None, 4096)              16781312  \n",
      "                                                                 \n",
      " dense_18 (Dense)            (None, 1000)              4097000   \n",
      "                                                                 \n",
      " dense_19 (Dense)            (None, 3)                 3003      \n",
      "                                                                 \n",
      "=================================================================\n",
      "Total params: 43,987,555\n",
      "Trainable params: 43,987,555\n",
      "Non-trainable params: 0\n",
      "_________________________________________________________________\n"
     ]
    }
   ],
   "source": [
    "input = Input(shape=(64,64,1))\n",
    "x=Conv2D(filters=64,kernel_size=3, padding='same',activation='relu')(input)\n",
    "x=Conv2D(filters=64,kernel_size=3, padding='same',activation='relu')(x)\n",
    "x=MaxPool2D(pool_size =2, strides =2, padding ='same')(x)\n",
    "\n",
    "x=Conv2D(filters=128,kernel_size=3, padding='same', activation='relu')(x)\n",
    "x=Conv2D(filters=128,kernel_size=3, padding='same', activation='relu')(x)\n",
    "x=MaxPool2D(pool_size=2, strides=2, padding= 'same')(x)\n",
    "\n",
    "x=Conv2D(filters=256, kernel_size=3, padding = 'same', activation='relu')(x)\n",
    "x=Conv2D(filters=256, kernel_size=3, padding = 'same', activation='relu')(x)\n",
    "x=Conv2D(filters=256, kernel_size=3, padding = 'same', activation='relu')(x)\n",
    "x=MaxPool2D(pool_size=2, strides=2, padding='same')(x)\n",
    "\n",
    "x=Conv2D(filters=512, kernel_size=3, padding = 'same', activation='relu')(x)\n",
    "x=Conv2D(filters=512, kernel_size=3, padding = 'same', activation='relu')(x)\n",
    "x=Conv2D(filters=512, kernel_size=3, padding = 'same', activation='relu')(x)\n",
    "x=MaxPool2D(pool_size=2, strides=2, padding='same')(x)\n",
    "x=Dropout(0.05)(x)\n",
    "\n",
    "x=Conv2D(filters=512, kernel_size=3, padding = 'same', activation='relu')(x)\n",
    "x=Conv2D(filters=512, kernel_size=3, padding = 'same', activation='relu')(x)\n",
    "x=Conv2D(filters=512, kernel_size=3, padding = 'same', activation='relu')(x)\n",
    "x=MaxPool2D(pool_size=2, strides=2, padding='same')(x)\n",
    "x=Dropout(0.05)(x)\n",
    "\n",
    "x=Flatten()(x)\n",
    "x=Dense(units=4096, activation='relu',kernel_regularizer=tf.keras.regularizers.L2(0.0001))(x)\n",
    "x=Dense(units=4096, activation='relu',kernel_regularizer=tf.keras.regularizers.L2(0.0001))(x)\n",
    "x=Dense(units=1000, activation='relu',kernel_regularizer=tf.keras.regularizers.L2(0.0001))(x)\n",
    "output=Dense(units=3, activation='softmax')(x)\n",
    "\n",
    "model_regdrop=Model(inputs=input, outputs=output)\n",
    "model_regdrop.summary()\n"
   ]
  },
  {
   "cell_type": "code",
   "execution_count": 58,
   "metadata": {
    "colab": {
     "base_uri": "https://localhost:8080/"
    },
    "id": "pkxlYqQV2dyM",
    "outputId": "89c1f4e0-cca8-455a-9852-1cbd326ede0d"
   },
   "outputs": [
    {
     "name": "stdout",
     "output_type": "stream",
     "text": [
      "Epoch 1/25\n",
      "441/441 [==============================] - 26s 57ms/step - loss: 1.2430 - sparse_categorical_accuracy: 0.4920 - val_loss: 1.0229 - val_sparse_categorical_accuracy: 0.5134\n",
      "Epoch 2/25\n",
      "441/441 [==============================] - 25s 57ms/step - loss: 0.8071 - sparse_categorical_accuracy: 0.6249 - val_loss: 0.7940 - val_sparse_categorical_accuracy: 0.6175\n",
      "Epoch 3/25\n",
      "441/441 [==============================] - 25s 57ms/step - loss: 0.7064 - sparse_categorical_accuracy: 0.6711 - val_loss: 0.7513 - val_sparse_categorical_accuracy: 0.6418\n",
      "Epoch 4/25\n",
      "441/441 [==============================] - 25s 57ms/step - loss: 0.6377 - sparse_categorical_accuracy: 0.7111 - val_loss: 0.7960 - val_sparse_categorical_accuracy: 0.6334\n",
      "Epoch 5/25\n",
      "441/441 [==============================] - 25s 56ms/step - loss: 0.5662 - sparse_categorical_accuracy: 0.7519 - val_loss: 0.8367 - val_sparse_categorical_accuracy: 0.6416\n",
      "Epoch 6/25\n",
      "441/441 [==============================] - 25s 56ms/step - loss: 0.4879 - sparse_categorical_accuracy: 0.7948 - val_loss: 0.8952 - val_sparse_categorical_accuracy: 0.6669\n",
      "Epoch 7/25\n",
      "441/441 [==============================] - 25s 56ms/step - loss: 0.4133 - sparse_categorical_accuracy: 0.8341 - val_loss: 0.9391 - val_sparse_categorical_accuracy: 0.6680\n",
      "Epoch 8/25\n",
      "441/441 [==============================] - 25s 57ms/step - loss: 0.3267 - sparse_categorical_accuracy: 0.8755 - val_loss: 1.1169 - val_sparse_categorical_accuracy: 0.6737\n",
      "Epoch 9/25\n",
      "441/441 [==============================] - 25s 56ms/step - loss: 0.2565 - sparse_categorical_accuracy: 0.9068 - val_loss: 1.1134 - val_sparse_categorical_accuracy: 0.6728\n",
      "Epoch 10/25\n",
      "441/441 [==============================] - 25s 56ms/step - loss: 0.1917 - sparse_categorical_accuracy: 0.9328 - val_loss: 1.3992 - val_sparse_categorical_accuracy: 0.6510\n",
      "Epoch 11/25\n",
      "441/441 [==============================] - 25s 56ms/step - loss: 0.1525 - sparse_categorical_accuracy: 0.9473 - val_loss: 1.4290 - val_sparse_categorical_accuracy: 0.6494\n",
      "Epoch 12/25\n",
      "441/441 [==============================] - 25s 56ms/step - loss: 0.1173 - sparse_categorical_accuracy: 0.9615 - val_loss: 1.1939 - val_sparse_categorical_accuracy: 0.6756\n",
      "Epoch 13/25\n",
      "441/441 [==============================] - 25s 57ms/step - loss: 0.0911 - sparse_categorical_accuracy: 0.9709 - val_loss: 1.3677 - val_sparse_categorical_accuracy: 0.6949\n",
      "Epoch 14/25\n",
      "441/441 [==============================] - 25s 57ms/step - loss: 0.0777 - sparse_categorical_accuracy: 0.9754 - val_loss: 1.3684 - val_sparse_categorical_accuracy: 0.7050\n",
      "Epoch 15/25\n",
      "441/441 [==============================] - 25s 56ms/step - loss: 0.0691 - sparse_categorical_accuracy: 0.9787 - val_loss: 1.4039 - val_sparse_categorical_accuracy: 0.6976\n",
      "Epoch 16/25\n",
      "441/441 [==============================] - 25s 56ms/step - loss: 0.0535 - sparse_categorical_accuracy: 0.9832 - val_loss: 1.4411 - val_sparse_categorical_accuracy: 0.7035\n",
      "Epoch 17/25\n",
      "441/441 [==============================] - 25s 56ms/step - loss: 0.0491 - sparse_categorical_accuracy: 0.9851 - val_loss: 1.4336 - val_sparse_categorical_accuracy: 0.7021\n",
      "Epoch 18/25\n",
      "441/441 [==============================] - 25s 57ms/step - loss: 0.0462 - sparse_categorical_accuracy: 0.9857 - val_loss: 1.5634 - val_sparse_categorical_accuracy: 0.7092\n",
      "Epoch 19/25\n",
      "441/441 [==============================] - 25s 56ms/step - loss: 0.0419 - sparse_categorical_accuracy: 0.9878 - val_loss: 1.3999 - val_sparse_categorical_accuracy: 0.7053\n",
      "Epoch 20/25\n",
      "441/441 [==============================] - 25s 56ms/step - loss: 0.0406 - sparse_categorical_accuracy: 0.9885 - val_loss: 1.4547 - val_sparse_categorical_accuracy: 0.7032\n",
      "Epoch 21/25\n",
      "441/441 [==============================] - 25s 56ms/step - loss: 0.0355 - sparse_categorical_accuracy: 0.9898 - val_loss: 1.6718 - val_sparse_categorical_accuracy: 0.7024\n",
      "Epoch 22/25\n",
      "441/441 [==============================] - 25s 56ms/step - loss: 0.0335 - sparse_categorical_accuracy: 0.9907 - val_loss: 1.3459 - val_sparse_categorical_accuracy: 0.7066\n",
      "Epoch 23/25\n",
      "441/441 [==============================] - 25s 56ms/step - loss: 0.0320 - sparse_categorical_accuracy: 0.9909 - val_loss: 1.5678 - val_sparse_categorical_accuracy: 0.7063\n",
      "Epoch 24/25\n",
      "441/441 [==============================] - 25s 57ms/step - loss: 0.0342 - sparse_categorical_accuracy: 0.9898 - val_loss: 1.5350 - val_sparse_categorical_accuracy: 0.7096\n",
      "Epoch 25/25\n",
      "441/441 [==============================] - 25s 56ms/step - loss: 0.0290 - sparse_categorical_accuracy: 0.9916 - val_loss: 1.7178 - val_sparse_categorical_accuracy: 0.6957\n"
     ]
    }
   ],
   "source": [
    "model_regdrop.compile(\n",
    "    optimizer=tf.keras.optimizers.Adam(0.0001),\n",
    "    loss=tf.keras.losses.SparseCategoricalCrossentropy(),\n",
    "    metrics=tf.keras.metrics.SparseCategoricalAccuracy()\n",
    ")\n",
    "BATCH_SIZE = 64\n",
    "SHUFFLE_BUFFER_SIZE = 100\n",
    "train_dataset = train_dataset.shuffle(SHUFFLE_BUFFER_SIZE).batch(BATCH_SIZE)\n",
    "test_dataset = test_dataset.batch(BATCH_SIZE)\n",
    "\n",
    "final_train_dataset = final_train_dataset.shuffle(SHUFFLE_BUFFER_SIZE).batch(BATCH_SIZE)\n",
    "\n",
    "callback = tf.keras.callbacks.EarlyStopping(monitor='val_sparse_categorical_accuracy',patience=25,\n",
    "                                            restore_best_weights=True, mode='max')\n",
    "history_regdrop=model_regdrop.fit(train_dataset, epochs=25, validation_data=(test_dataset),callbacks=[callback])"
   ]
  },
  {
   "cell_type": "code",
   "execution_count": 120,
   "metadata": {
    "id": "efTwoMgOZLez"
   },
   "outputs": [],
   "source": [
    "#reconstructed_model = keras.models.load_model(\"my_model\")"
   ]
  },
  {
   "cell_type": "code",
   "execution_count": 59,
   "metadata": {
    "id": "D_WbIWpouR95"
   },
   "outputs": [],
   "source": [
    "y_pred=model_regdrop.predict(np.asarray(x_test))\n",
    "y_preds=np.argmax(y_pred,axis=1)"
   ]
  },
  {
   "cell_type": "code",
   "execution_count": 60,
   "metadata": {
    "id": "8qL1Eb8Uuh-q"
   },
   "outputs": [],
   "source": [
    "from sklearn.metrics import accuracy_score, f1_score, recall_score, precision_score, confusion_matrix, classification_report"
   ]
  },
  {
   "cell_type": "code",
   "execution_count": 61,
   "metadata": {
    "colab": {
     "base_uri": "https://localhost:8080/"
    },
    "id": "Wvgydy9HZhZ1",
    "outputId": "0b4d3371-0481-448f-c536-b4ae0ad89acd"
   },
   "outputs": [
    {
     "data": {
      "text/plain": [
       "array([[2600,  248,  160],\n",
       "       [ 270, 1322,  447],\n",
       "       [ 364,  695, 1071]])"
      ]
     },
     "execution_count": 61,
     "metadata": {},
     "output_type": "execute_result"
    }
   ],
   "source": [
    "confusion_matrix(y_test,y_preds)"
   ]
  },
  {
   "cell_type": "code",
   "execution_count": 62,
   "metadata": {
    "colab": {
     "base_uri": "https://localhost:8080/"
    },
    "id": "D_Tr_Ko2Z31x",
    "outputId": "f44aaccc-8325-4620-c47b-2fd19c6535ba"
   },
   "outputs": [
    {
     "data": {
      "text/plain": [
       "0.6956945799080396"
      ]
     },
     "execution_count": 62,
     "metadata": {},
     "output_type": "execute_result"
    }
   ],
   "source": [
    "accuracy_score(y_test,y_preds)"
   ]
  },
  {
   "cell_type": "code",
   "execution_count": 63,
   "metadata": {
    "colab": {
     "base_uri": "https://localhost:8080/"
    },
    "id": "7BUGKfnWZ7Rc",
    "outputId": "a66eb236-5239-4b8e-fe2c-177c43a40c60"
   },
   "outputs": [
    {
     "data": {
      "text/plain": [
       "0.6906188127408965"
      ]
     },
     "execution_count": 63,
     "metadata": {},
     "output_type": "execute_result"
    }
   ],
   "source": [
    "f1_score(y_test,y_preds,average='weighted')"
   ]
  },
  {
   "cell_type": "code",
   "execution_count": 64,
   "metadata": {
    "colab": {
     "base_uri": "https://localhost:8080/"
    },
    "id": "RH0An8HOl8rb",
    "outputId": "e7ec5d76-8891-4194-9dfd-48ad879eaa11"
   },
   "outputs": [
    {
     "name": "stdout",
     "output_type": "stream",
     "text": [
      "              precision    recall  f1-score   support\n",
      "\n",
      "           0       0.80      0.86      0.83      3008\n",
      "           1       0.58      0.65      0.61      2039\n",
      "           2       0.64      0.50      0.56      2130\n",
      "\n",
      "    accuracy                           0.70      7177\n",
      "   macro avg       0.68      0.67      0.67      7177\n",
      "weighted avg       0.69      0.70      0.69      7177\n",
      "\n"
     ]
    }
   ],
   "source": [
    "print(classification_report(y_test,y_preds))"
   ]
  },
  {
   "cell_type": "markdown",
   "metadata": {
    "id": "p8COgk3PapFY"
   },
   "source": [
    "### Original Model"
   ]
  },
  {
   "cell_type": "code",
   "execution_count": 65,
   "metadata": {
    "colab": {
     "base_uri": "https://localhost:8080/"
    },
    "id": "_tedYxqoXFCP",
    "outputId": "b495cedb-b578-400d-f8ac-f408fb6cdac1"
   },
   "outputs": [
    {
     "name": "stdout",
     "output_type": "stream",
     "text": [
      "Model: \"model_5\"\n",
      "_________________________________________________________________\n",
      " Layer (type)                Output Shape              Param #   \n",
      "=================================================================\n",
      " input_6 (InputLayer)        [(None, 64, 64, 1)]       0         \n",
      "                                                                 \n",
      " conv2d_65 (Conv2D)          (None, 64, 64, 64)        640       \n",
      "                                                                 \n",
      " conv2d_66 (Conv2D)          (None, 64, 64, 64)        36928     \n",
      "                                                                 \n",
      " max_pooling2d_25 (MaxPoolin  (None, 32, 32, 64)       0         \n",
      " g2D)                                                            \n",
      "                                                                 \n",
      " conv2d_67 (Conv2D)          (None, 32, 32, 128)       73856     \n",
      "                                                                 \n",
      " conv2d_68 (Conv2D)          (None, 32, 32, 128)       147584    \n",
      "                                                                 \n",
      " max_pooling2d_26 (MaxPoolin  (None, 16, 16, 128)      0         \n",
      " g2D)                                                            \n",
      "                                                                 \n",
      " conv2d_69 (Conv2D)          (None, 16, 16, 256)       295168    \n",
      "                                                                 \n",
      " conv2d_70 (Conv2D)          (None, 16, 16, 256)       590080    \n",
      "                                                                 \n",
      " conv2d_71 (Conv2D)          (None, 16, 16, 256)       590080    \n",
      "                                                                 \n",
      " max_pooling2d_27 (MaxPoolin  (None, 8, 8, 256)        0         \n",
      " g2D)                                                            \n",
      "                                                                 \n",
      " conv2d_72 (Conv2D)          (None, 8, 8, 512)         1180160   \n",
      "                                                                 \n",
      " conv2d_73 (Conv2D)          (None, 8, 8, 512)         2359808   \n",
      "                                                                 \n",
      " conv2d_74 (Conv2D)          (None, 8, 8, 512)         2359808   \n",
      "                                                                 \n",
      " max_pooling2d_28 (MaxPoolin  (None, 4, 4, 512)        0         \n",
      " g2D)                                                            \n",
      "                                                                 \n",
      " conv2d_75 (Conv2D)          (None, 4, 4, 512)         2359808   \n",
      "                                                                 \n",
      " conv2d_76 (Conv2D)          (None, 4, 4, 512)         2359808   \n",
      "                                                                 \n",
      " conv2d_77 (Conv2D)          (None, 4, 4, 512)         2359808   \n",
      "                                                                 \n",
      " max_pooling2d_29 (MaxPoolin  (None, 2, 2, 512)        0         \n",
      " g2D)                                                            \n",
      "                                                                 \n",
      " flatten_5 (Flatten)         (None, 2048)              0         \n",
      "                                                                 \n",
      " dense_20 (Dense)            (None, 4096)              8392704   \n",
      "                                                                 \n",
      " dense_21 (Dense)            (None, 4096)              16781312  \n",
      "                                                                 \n",
      " dense_22 (Dense)            (None, 1000)              4097000   \n",
      "                                                                 \n",
      " dense_23 (Dense)            (None, 3)                 3003      \n",
      "                                                                 \n",
      "=================================================================\n",
      "Total params: 43,987,555\n",
      "Trainable params: 43,987,555\n",
      "Non-trainable params: 0\n",
      "_________________________________________________________________\n"
     ]
    }
   ],
   "source": [
    "input = Input(shape=(64,64,1))\n",
    "x=Conv2D(filters=64,kernel_size=3, padding='same',activation='relu')(input)\n",
    "x=Conv2D(filters=64,kernel_size=3, padding='same',activation='relu')(x)\n",
    "x=MaxPool2D(pool_size =2, strides =2, padding ='same')(x)\n",
    "\n",
    "x=Conv2D(filters=128,kernel_size=3, padding='same', activation='relu')(x)\n",
    "x=Conv2D(filters=128,kernel_size=3, padding='same', activation='relu')(x)\n",
    "x=MaxPool2D(pool_size=2, strides=2, padding= 'same')(x)\n",
    "\n",
    "x=Conv2D(filters=256, kernel_size=3, padding = 'same', activation='relu')(x)\n",
    "x=Conv2D(filters=256, kernel_size=3, padding = 'same', activation='relu')(x)\n",
    "x=Conv2D(filters=256, kernel_size=3, padding = 'same', activation='relu')(x)\n",
    "x=MaxPool2D(pool_size=2, strides=2, padding='same')(x)\n",
    "\n",
    "x=Conv2D(filters=512, kernel_size=3, padding = 'same', activation='relu')(x)\n",
    "x=Conv2D(filters=512, kernel_size=3, padding = 'same', activation='relu')(x)\n",
    "x=Conv2D(filters=512, kernel_size=3, padding = 'same', activation='relu')(x)\n",
    "x=MaxPool2D(pool_size=2, strides=2, padding='same')(x)\n",
    "\n",
    "\n",
    "x=Conv2D(filters=512, kernel_size=3, padding = 'same', activation='relu')(x)\n",
    "x=Conv2D(filters=512, kernel_size=3, padding = 'same', activation='relu')(x)\n",
    "x=Conv2D(filters=512, kernel_size=3, padding = 'same', activation='relu')(x)\n",
    "x=MaxPool2D(pool_size=2, strides=2, padding='same')(x)\n",
    "\n",
    "\n",
    "x=Flatten()(x)\n",
    "x=Dense(units=4096, activation='relu')(x)\n",
    "x=Dense(units=4096, activation='relu')(x)\n",
    "x=Dense(units=1000, activation='relu')(x)\n",
    "output=Dense(units=3, activation='softmax')(x)\n",
    "\n",
    "model_original=Model(inputs=input, outputs=output)\n",
    "model_original.summary()\n"
   ]
  },
  {
   "cell_type": "code",
   "execution_count": 74,
   "metadata": {
    "colab": {
     "base_uri": "https://localhost:8080/"
    },
    "id": "g2L8LBN9Nkw-",
    "outputId": "13c1b033-de7e-4732-8abf-7d2fb2b17bb7"
   },
   "outputs": [
    {
     "name": "stdout",
     "output_type": "stream",
     "text": [
      "Epoch 1/25\n",
      "441/441 [==============================] - 25s 54ms/step - loss: 1.0821 - sparse_categorical_accuracy: 0.4240 - val_loss: 1.0832 - val_sparse_categorical_accuracy: 0.4191\n",
      "Epoch 2/25\n",
      "441/441 [==============================] - 24s 54ms/step - loss: 1.0806 - sparse_categorical_accuracy: 0.4235 - val_loss: 1.0768 - val_sparse_categorical_accuracy: 0.4290\n",
      "Epoch 3/25\n",
      "441/441 [==============================] - 24s 54ms/step - loss: 1.0791 - sparse_categorical_accuracy: 0.4257 - val_loss: 1.0811 - val_sparse_categorical_accuracy: 0.4191\n",
      "Epoch 4/25\n",
      "441/441 [==============================] - 24s 53ms/step - loss: 0.9316 - sparse_categorical_accuracy: 0.5270 - val_loss: 0.9109 - val_sparse_categorical_accuracy: 0.5321\n",
      "Epoch 5/25\n",
      "441/441 [==============================] - 24s 54ms/step - loss: 0.7475 - sparse_categorical_accuracy: 0.6436 - val_loss: 0.7751 - val_sparse_categorical_accuracy: 0.6196\n",
      "Epoch 6/25\n",
      "441/441 [==============================] - 24s 54ms/step - loss: 0.6604 - sparse_categorical_accuracy: 0.6954 - val_loss: 0.7683 - val_sparse_categorical_accuracy: 0.6447\n",
      "Epoch 7/25\n",
      "441/441 [==============================] - 24s 54ms/step - loss: 0.5891 - sparse_categorical_accuracy: 0.7376 - val_loss: 0.7647 - val_sparse_categorical_accuracy: 0.6538\n",
      "Epoch 8/25\n",
      "441/441 [==============================] - 24s 54ms/step - loss: 0.5171 - sparse_categorical_accuracy: 0.7793 - val_loss: 0.8139 - val_sparse_categorical_accuracy: 0.6507\n",
      "Epoch 9/25\n",
      "441/441 [==============================] - 24s 53ms/step - loss: 0.4462 - sparse_categorical_accuracy: 0.8145 - val_loss: 0.8712 - val_sparse_categorical_accuracy: 0.6402\n",
      "Epoch 10/25\n",
      "441/441 [==============================] - 23s 53ms/step - loss: 0.3742 - sparse_categorical_accuracy: 0.8511 - val_loss: 0.9667 - val_sparse_categorical_accuracy: 0.6525\n",
      "Epoch 11/25\n",
      "441/441 [==============================] - 24s 53ms/step - loss: 0.2973 - sparse_categorical_accuracy: 0.8856 - val_loss: 1.0201 - val_sparse_categorical_accuracy: 0.6880\n",
      "Epoch 12/25\n",
      "441/441 [==============================] - 24s 53ms/step - loss: 0.2449 - sparse_categorical_accuracy: 0.9070 - val_loss: 1.1179 - val_sparse_categorical_accuracy: 0.6721\n",
      "Epoch 13/25\n",
      "441/441 [==============================] - 23s 53ms/step - loss: 0.1762 - sparse_categorical_accuracy: 0.9342 - val_loss: 1.3486 - val_sparse_categorical_accuracy: 0.6476\n",
      "Epoch 14/25\n",
      "441/441 [==============================] - 23s 53ms/step - loss: 0.1362 - sparse_categorical_accuracy: 0.9490 - val_loss: 1.4075 - val_sparse_categorical_accuracy: 0.6779\n",
      "Epoch 15/25\n",
      "441/441 [==============================] - 24s 53ms/step - loss: 0.0993 - sparse_categorical_accuracy: 0.9632 - val_loss: 1.3548 - val_sparse_categorical_accuracy: 0.6937\n",
      "Epoch 16/25\n",
      "441/441 [==============================] - 24s 53ms/step - loss: 0.0787 - sparse_categorical_accuracy: 0.9729 - val_loss: 1.3490 - val_sparse_categorical_accuracy: 0.6900\n",
      "Epoch 17/25\n",
      "441/441 [==============================] - 23s 53ms/step - loss: 0.0676 - sparse_categorical_accuracy: 0.9766 - val_loss: 1.4974 - val_sparse_categorical_accuracy: 0.6896\n",
      "Epoch 18/25\n",
      "441/441 [==============================] - 24s 54ms/step - loss: 0.0524 - sparse_categorical_accuracy: 0.9812 - val_loss: 1.4896 - val_sparse_categorical_accuracy: 0.6965\n",
      "Epoch 19/25\n",
      "441/441 [==============================] - 24s 53ms/step - loss: 0.0474 - sparse_categorical_accuracy: 0.9834 - val_loss: 1.5306 - val_sparse_categorical_accuracy: 0.7045\n",
      "Epoch 20/25\n",
      "441/441 [==============================] - 23s 53ms/step - loss: 0.0390 - sparse_categorical_accuracy: 0.9868 - val_loss: 1.6453 - val_sparse_categorical_accuracy: 0.6884\n",
      "Epoch 21/25\n",
      "441/441 [==============================] - 23s 53ms/step - loss: 0.0355 - sparse_categorical_accuracy: 0.9881 - val_loss: 1.4694 - val_sparse_categorical_accuracy: 0.6993\n",
      "Epoch 22/25\n",
      "441/441 [==============================] - 23s 53ms/step - loss: 0.0295 - sparse_categorical_accuracy: 0.9896 - val_loss: 1.6323 - val_sparse_categorical_accuracy: 0.6995\n",
      "Epoch 23/25\n",
      "441/441 [==============================] - 23s 53ms/step - loss: 0.0279 - sparse_categorical_accuracy: 0.9907 - val_loss: 1.7818 - val_sparse_categorical_accuracy: 0.6968\n",
      "Epoch 24/25\n",
      "441/441 [==============================] - 23s 53ms/step - loss: 0.0282 - sparse_categorical_accuracy: 0.9904 - val_loss: 1.7426 - val_sparse_categorical_accuracy: 0.6964\n",
      "Epoch 25/25\n",
      "441/441 [==============================] - 24s 54ms/step - loss: 0.0301 - sparse_categorical_accuracy: 0.9900 - val_loss: 1.7272 - val_sparse_categorical_accuracy: 0.6905\n"
     ]
    }
   ],
   "source": [
    "model_original.compile(\n",
    "    optimizer=tf.keras.optimizers.Adam(0.0001),\n",
    "    loss=tf.keras.losses.SparseCategoricalCrossentropy(),\n",
    "    metrics=tf.keras.metrics.SparseCategoricalAccuracy()\n",
    ")\n",
    "BATCH_SIZE = 64\n",
    "SHUFFLE_BUFFER_SIZE = 100\n",
    "train_dataset = train_dataset.shuffle(SHUFFLE_BUFFER_SIZE).batch(BATCH_SIZE)\n",
    "test_dataset = test_dataset.batch(BATCH_SIZE)\n",
    "\n",
    "final_train_dataset = final_train_dataset.shuffle(SHUFFLE_BUFFER_SIZE).batch(BATCH_SIZE)\n",
    "\n",
    "callback = tf.keras.callbacks.EarlyStopping(monitor='val_sparse_categorical_accuracy',patience=25,\n",
    "                                            restore_best_weights=True, mode='max')\n",
    "history_original=model_original.fit(train_dataset, epochs=25, validation_data=(test_dataset),callbacks=[callback])"
   ]
  },
  {
   "cell_type": "code",
   "execution_count": 88,
   "metadata": {
    "id": "_1WrAJ9wPgTm"
   },
   "outputs": [],
   "source": [
    "train_accuracy_original=[0.4961, 0.6426, 0.6953, 0.7415, 0.7811, 0.8210, 0.8536, 0.8871, 0.9209, 0.9375, 0.9529, 0.9691, 0.9725, 0.9760, 0.9796, 0.9850, 0.9864, \n",
    "                         0.9875, 0.9884, 0.9868, 0.9885, 0.9882, 0.9890, 0.9901, 0.9922]\n",
    "\n",
    "val_accuracy_original=[0.5392, 0.6122, 0.5880, 0.6682, 0.6572, 0.6705, 0.7002, 0.7120, 0.7091, 0.7052, 0.7070, 0.7042, 0.6865, 0.6862,\n",
    " 0.7116, 0.7148, 0.7119, 0.7134, 0.7131, 0.7103, 0.7048, 0.7158, 0.7031, 0.7223, 0.7231]"
   ]
  },
  {
   "cell_type": "code",
   "execution_count": 87,
   "metadata": {
    "colab": {
     "base_uri": "https://localhost:8080/"
    },
    "id": "oXDMl2wgUNvg",
    "outputId": "c31c97d9-e640-4d8c-e98d-9af7f9089155"
   },
   "outputs": [
    {
     "data": {
      "text/plain": [
       "24"
      ]
     },
     "execution_count": 87,
     "metadata": {},
     "output_type": "execute_result"
    }
   ],
   "source": [
    "len(train_accuracy_original)"
   ]
  },
  {
   "cell_type": "code",
   "execution_count": 95,
   "metadata": {
    "colab": {
     "base_uri": "https://localhost:8080/",
     "height": 760
    },
    "id": "gtQtDNoNRF9O",
    "outputId": "433554e7-f434-4f25-af55-357d02068669"
   },
   "outputs": [
    {
     "data": {
      "text/plain": [
       "<matplotlib.legend.Legend at 0x7f48cb551990>"
      ]
     },
     "execution_count": 95,
     "metadata": {},
     "output_type": "execute_result"
    },
    {
     "data": {
      "image/png": "[encoded data removed]",
      "text/plain": [
       "<Figure size 2160x1440 with 1 Axes>"
      ]
     },
     "metadata": {
      "needs_background": "light"
     },
     "output_type": "display_data"
    }
   ],
   "source": [
    "plt.figure(figsize=(30,20))\n",
    "plt.plot(range(1,26),history_regularization.history['sparse_categorical_accuracy'], label='Training Regularization',color='lightcoral')\n",
    "plt.plot(range(1,26),history_drop.history['sparse_categorical_accuracy'], label='Training Dropout', color='limegreen')\n",
    "plt.plot(range(1,26),history_regdrop.history['sparse_categorical_accuracy'], label='Training Regularization + Dropout', color='skyblue')\n",
    "plt.plot(range(1,26),train_accuracy_original, label='Training Original',color='orange')\n",
    "\n",
    "plt.plot(range(1,26),history_regularization.history['val_sparse_categorical_accuracy'], label='Validation Regularization', color='firebrick')\n",
    "plt.plot(range(1,26),history_drop.history['val_sparse_categorical_accuracy'], label='Validation Dropout',color='darkgreen')\n",
    "plt.plot(range(1,26),history_regdrop.history['val_sparse_categorical_accuracy'], label='Validation Regularization + Dropout',color='deepskyblue')\n",
    "plt.plot(range(1,26),val_accuracy_original, label='Validation Original', color='darkorange')\n",
    "plt.xlabel(\"Epochs\",fontsize=16)\n",
    "plt.ylabel(\"Sparse Categorical Accuracy\",fontsize=16)\n",
    "plt.title(\"Overfitting Techniques Model Performance\",fontsize=20)\n",
    "plt.legend()\n",
    "\n"
   ]
  },
  {
   "cell_type": "code",
   "execution_count": null,
   "metadata": {
    "id": "CaWRXdt2Kw3c"
   },
   "outputs": [],
   "source": []
  }
 ],
 "metadata": {
  "accelerator": "GPU",
  "colab": {
   "collapsed_sections": [],
   "machine_shape": "hm",
   "name": "06_Overfitting_Techniques_VGG.ipynb",
   "provenance": []
  },
  "kernelspec": {
   "display_name": "Python 3",
   "language": "python",
   "name": "python3"
  },
  "language_info": {
   "codemirror_mode": {
    "name": "ipython",
    "version": 3
   },
   "file_extension": ".py",
   "mimetype": "text/x-python",
   "name": "python",
   "nbconvert_exporter": "python",
   "pygments_lexer": "ipython3",
   "version": "3.8.5"
  }
 },
 "nbformat": 4,
 "nbformat_minor": 4
}
